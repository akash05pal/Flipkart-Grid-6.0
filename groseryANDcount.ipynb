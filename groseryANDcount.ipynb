{
  "nbformat": 4,
  "nbformat_minor": 0,
  "metadata": {
    "colab": {
      "provenance": [],
      "gpuType": "T4"
    },
    "kernelspec": {
      "name": "python3",
      "display_name": "Python 3"
    },
    "language_info": {
      "name": "python"
    },
    "accelerator": "GPU"
  },
  "cells": [
    {
      "cell_type": "code",
      "source": [
        "!pip install roboflow\n",
        "!pip install torch torchvision torchaudio\n",
        "!git clone https://github.com/ultralytics/yolov5  # clone YOLOv5 repo\n",
        "!pip install -qr yolov5/requirements.txt  # install YOLOv5 dependencies\n"
      ],
      "metadata": {
        "colab": {
          "base_uri": "https://localhost:8080/"
        },
        "id": "A0N8p9-dWj3D",
        "outputId": "fe10be31-e85c-4102-d3a1-6f0d3b9a500e"
      },
      "execution_count": null,
      "outputs": [
        {
          "output_type": "stream",
          "name": "stdout",
          "text": [
            "Collecting roboflow\n",
            "  Downloading roboflow-1.1.48-py3-none-any.whl.metadata (9.7 kB)\n",
            "Requirement already satisfied: certifi in /usr/local/lib/python3.10/dist-packages (from roboflow) (2024.8.30)\n",
            "Collecting idna==3.7 (from roboflow)\n",
            "  Downloading idna-3.7-py3-none-any.whl.metadata (9.9 kB)\n",
            "Requirement already satisfied: cycler in /usr/local/lib/python3.10/dist-packages (from roboflow) (0.12.1)\n",
            "Requirement already satisfied: kiwisolver>=1.3.1 in /usr/local/lib/python3.10/dist-packages (from roboflow) (1.4.7)\n",
            "Requirement already satisfied: matplotlib in /usr/local/lib/python3.10/dist-packages (from roboflow) (3.7.1)\n",
            "Requirement already satisfied: numpy>=1.18.5 in /usr/local/lib/python3.10/dist-packages (from roboflow) (1.26.4)\n",
            "Requirement already satisfied: opencv-python-headless==4.10.0.84 in /usr/local/lib/python3.10/dist-packages (from roboflow) (4.10.0.84)\n",
            "Requirement already satisfied: Pillow>=7.1.2 in /usr/local/lib/python3.10/dist-packages (from roboflow) (10.4.0)\n",
            "Requirement already satisfied: python-dateutil in /usr/local/lib/python3.10/dist-packages (from roboflow) (2.8.2)\n",
            "Collecting python-dotenv (from roboflow)\n",
            "  Downloading python_dotenv-1.0.1-py3-none-any.whl.metadata (23 kB)\n",
            "Requirement already satisfied: requests in /usr/local/lib/python3.10/dist-packages (from roboflow) (2.32.3)\n",
            "Requirement already satisfied: six in /usr/local/lib/python3.10/dist-packages (from roboflow) (1.16.0)\n",
            "Requirement already satisfied: urllib3>=1.26.6 in /usr/local/lib/python3.10/dist-packages (from roboflow) (2.2.3)\n",
            "Requirement already satisfied: tqdm>=4.41.0 in /usr/local/lib/python3.10/dist-packages (from roboflow) (4.66.5)\n",
            "Requirement already satisfied: PyYAML>=5.3.1 in /usr/local/lib/python3.10/dist-packages (from roboflow) (6.0.2)\n",
            "Collecting requests-toolbelt (from roboflow)\n",
            "  Downloading requests_toolbelt-1.0.0-py2.py3-none-any.whl.metadata (14 kB)\n",
            "Collecting filetype (from roboflow)\n",
            "  Downloading filetype-1.2.0-py2.py3-none-any.whl.metadata (6.5 kB)\n",
            "Requirement already satisfied: contourpy>=1.0.1 in /usr/local/lib/python3.10/dist-packages (from matplotlib->roboflow) (1.3.0)\n",
            "Requirement already satisfied: fonttools>=4.22.0 in /usr/local/lib/python3.10/dist-packages (from matplotlib->roboflow) (4.54.1)\n",
            "Requirement already satisfied: packaging>=20.0 in /usr/local/lib/python3.10/dist-packages (from matplotlib->roboflow) (24.1)\n",
            "Requirement already satisfied: pyparsing>=2.3.1 in /usr/local/lib/python3.10/dist-packages (from matplotlib->roboflow) (3.2.0)\n",
            "Requirement already satisfied: charset-normalizer<4,>=2 in /usr/local/lib/python3.10/dist-packages (from requests->roboflow) (3.4.0)\n",
            "Downloading roboflow-1.1.48-py3-none-any.whl (80 kB)\n",
            "\u001b[2K   \u001b[90m━━━━━━━━━━━━━━━━━━━━━━━━━━━━━━━━━━━━━━━━\u001b[0m \u001b[32m80.3/80.3 kB\u001b[0m \u001b[31m8.7 MB/s\u001b[0m eta \u001b[36m0:00:00\u001b[0m\n",
            "\u001b[?25hDownloading idna-3.7-py3-none-any.whl (66 kB)\n",
            "\u001b[2K   \u001b[90m━━━━━━━━━━━━━━━━━━━━━━━━━━━━━━━━━━━━━━━━\u001b[0m \u001b[32m66.8/66.8 kB\u001b[0m \u001b[31m7.1 MB/s\u001b[0m eta \u001b[36m0:00:00\u001b[0m\n",
            "\u001b[?25hDownloading filetype-1.2.0-py2.py3-none-any.whl (19 kB)\n",
            "Downloading python_dotenv-1.0.1-py3-none-any.whl (19 kB)\n",
            "Downloading requests_toolbelt-1.0.0-py2.py3-none-any.whl (54 kB)\n",
            "\u001b[2K   \u001b[90m━━━━━━━━━━━━━━━━━━━━━━━━━━━━━━━━━━━━━━━━\u001b[0m \u001b[32m54.5/54.5 kB\u001b[0m \u001b[31m5.5 MB/s\u001b[0m eta \u001b[36m0:00:00\u001b[0m\n",
            "\u001b[?25hInstalling collected packages: filetype, python-dotenv, idna, requests-toolbelt, roboflow\n",
            "  Attempting uninstall: idna\n",
            "    Found existing installation: idna 3.10\n",
            "    Uninstalling idna-3.10:\n",
            "      Successfully uninstalled idna-3.10\n",
            "Successfully installed filetype-1.2.0 idna-3.7 python-dotenv-1.0.1 requests-toolbelt-1.0.0 roboflow-1.1.48\n",
            "Requirement already satisfied: torch in /usr/local/lib/python3.10/dist-packages (2.4.1+cu121)\n",
            "Requirement already satisfied: torchvision in /usr/local/lib/python3.10/dist-packages (0.19.1+cu121)\n",
            "Requirement already satisfied: torchaudio in /usr/local/lib/python3.10/dist-packages (2.4.1+cu121)\n",
            "Requirement already satisfied: filelock in /usr/local/lib/python3.10/dist-packages (from torch) (3.16.1)\n",
            "Requirement already satisfied: typing-extensions>=4.8.0 in /usr/local/lib/python3.10/dist-packages (from torch) (4.12.2)\n",
            "Requirement already satisfied: sympy in /usr/local/lib/python3.10/dist-packages (from torch) (1.13.3)\n",
            "Requirement already satisfied: networkx in /usr/local/lib/python3.10/dist-packages (from torch) (3.4.1)\n",
            "Requirement already satisfied: jinja2 in /usr/local/lib/python3.10/dist-packages (from torch) (3.1.4)\n",
            "Requirement already satisfied: fsspec in /usr/local/lib/python3.10/dist-packages (from torch) (2024.6.1)\n",
            "Requirement already satisfied: numpy in /usr/local/lib/python3.10/dist-packages (from torchvision) (1.26.4)\n",
            "Requirement already satisfied: pillow!=8.3.*,>=5.3.0 in /usr/local/lib/python3.10/dist-packages (from torchvision) (10.4.0)\n",
            "Requirement already satisfied: MarkupSafe>=2.0 in /usr/local/lib/python3.10/dist-packages (from jinja2->torch) (3.0.1)\n",
            "Requirement already satisfied: mpmath<1.4,>=1.1.0 in /usr/local/lib/python3.10/dist-packages (from sympy->torch) (1.3.0)\n",
            "Cloning into 'yolov5'...\n",
            "remote: Enumerating objects: 17018, done.\u001b[K\n",
            "remote: Counting objects: 100% (213/213), done.\u001b[K\n",
            "remote: Compressing objects: 100% (146/146), done.\u001b[K\n",
            "remote: Total 17018 (delta 120), reused 122 (delta 67), pack-reused 16805 (from 1)\u001b[K\n",
            "Receiving objects: 100% (17018/17018), 15.74 MiB | 17.48 MiB/s, done.\n",
            "Resolving deltas: 100% (11653/11653), done.\n",
            "\u001b[2K   \u001b[90m━━━━━━━━━━━━━━━━━━━━━━━━━━━━━━━━━━━━━━━━\u001b[0m \u001b[32m876.6/876.6 kB\u001b[0m \u001b[31m52.5 MB/s\u001b[0m eta \u001b[36m0:00:00\u001b[0m\n",
            "\u001b[?25h"
          ]
        }
      ]
    },
    {
      "cell_type": "code",
      "source": [
        "from roboflow import Roboflow\n",
        "\n",
        "# Initialize Roboflow and get the dataset\n",
        "rf = Roboflow(api_key=\"B6woBQKXoRWi8B6QTMFi\")\n",
        "project = rf.workspace(\"nmims-b6ta9\").project(\"retail-store-india-new-2\")\n",
        "version = project.version(1)\n",
        "dataset = version.download(\"yolov5\")\n"
      ],
      "metadata": {
        "colab": {
          "base_uri": "https://localhost:8080/"
        },
        "id": "G70L1wxrWke0",
        "outputId": "603775ae-0d92-45d2-d1b2-be6ffa619fad"
      },
      "execution_count": null,
      "outputs": [
        {
          "output_type": "stream",
          "name": "stdout",
          "text": [
            "loading Roboflow workspace...\n",
            "loading Roboflow project...\n"
          ]
        },
        {
          "output_type": "stream",
          "name": "stderr",
          "text": [
            "Downloading Dataset Version Zip in Retail-Store-India-New-2-1 to yolov5pytorch:: 100%|██████████| 65132/65132 [00:04<00:00, 13490.51it/s]"
          ]
        },
        {
          "output_type": "stream",
          "name": "stdout",
          "text": [
            "\n"
          ]
        },
        {
          "output_type": "stream",
          "name": "stderr",
          "text": [
            "\n",
            "Extracting Dataset Version Zip to Retail-Store-India-New-2-1 in yolov5pytorch:: 100%|██████████| 3360/3360 [00:00<00:00, 6914.14it/s]\n"
          ]
        }
      ]
    },
    {
      "cell_type": "code",
      "source": [
        "# Display the content of data.yaml to check if paths are correct\n",
        "!cat {dataset.location}/data.yaml\n"
      ],
      "metadata": {
        "colab": {
          "base_uri": "https://localhost:8080/"
        },
        "id": "6FTdrggRXAC6",
        "outputId": "0dfe19e5-1171-4592-d832-abfecf1921bc"
      },
      "execution_count": null,
      "outputs": [
        {
          "output_type": "stream",
          "name": "stdout",
          "text": [
            "names:\n",
            "- Amul Butter\n",
            "- Amul Cheese Block 200g\n",
            "- Amul Vanilla Magic 1L\n",
            "- Badshah Afgani Hing\n",
            "- Bisleri Club Soda - 750 ml\n",
            "- Brooke Bond Red Label Leaf Tea 500 g\n",
            "- Cadbury Bournvita Chocolate Health Drink-1kg-\n",
            "- Candid Dusting Powder 120g\n",
            "- Ching-s SecretSchezwan Chutney 250g\n",
            "- Ching-s secret schezwan fried masala\n",
            "- Chings Secret Veg Hakka Noodles 140 g Pouch\n",
            "- Dabur Dant Rakshak Tootpaste\n",
            "- Dermi Cool Powder 150g\n",
            "- Dettol Bathing Soap Bar - Original 125g\n",
            "- Dove Beauty Cream\n",
            "- Everest Chaat Masala 50 g\n",
            "- Everest Pav Bhaji Masala 100 g\n",
            "- Everest Shahi Biryani Masala 1.25g\n",
            "- Godrej Aer Lush Green Fresh Home Fragrance Spray 220 ml\n",
            "- Gold Oil\n",
            "- Govardhan Pure cow Ghee -1kg-\n",
            "- Govardhan Pure cow Ghee -200ml-\n",
            "- HERSHEY-S Chocolate Flavored Syrup 200g\n",
            "- Harpic Disinfectant Bathroom Cleaner 200ml\n",
            "- Knorr Pizza Pasta Sauce\n",
            "- LG Compounded Hing Powder 50 g\n",
            "- Maggi Rich Tomato Ketchup Pichkoo 80g\n",
            "- Mysore Sandal Soap 150 g -Pack of 3-\n",
            "- NIC Honestly Natural Gulab Jamun -500ml-\n",
            "- Nescafe Classic Instant Coffee  190g\n",
            "- Nescafe Classic Instant Coffee 24 g\n",
            "- Nestle Every Day Milk Powder\n",
            "- Parachute Coconut Oil 300ml\n",
            "- Parachute Coconut Oil 600ml\n",
            "- Pintola High Protein Peanut Butter-510 gm-\n",
            "- Pond-s Dreamflower Pink Lily Fragrant Talc 400 g\n",
            "- Relispray  36g\n",
            "- Rin Monthly Pack -4 Bars-\n",
            "- Santoor Sandal - Turmeric Soap\n",
            "- Society Leaf Tea 250g Jar\n",
            "- Tata Salt Vacuum Evaporated Iodised Salt  1 kg Pouch\n",
            "- appy fizz apple juice -250 ml-\n",
            "nc: 42\n",
            "roboflow:\n",
            "  license: CC BY 4.0\n",
            "  project: retail-store-india-new-2\n",
            "  url: https://universe.roboflow.com/nmims-b6ta9/retail-store-india-new-2/dataset/1\n",
            "  version: 1\n",
            "  workspace: nmims-b6ta9\n",
            "test: ../test/images\n",
            "train: Retail-Store-India-New-2-1/train/images\n",
            "val: Retail-Store-India-New-2-1/valid/images\n"
          ]
        }
      ]
    },
    {
      "cell_type": "code",
      "source": [
        "%cd yolov5\n"
      ],
      "metadata": {
        "colab": {
          "base_uri": "https://localhost:8080/"
        },
        "id": "mTa4VnLhXynR",
        "outputId": "951436e9-e90d-4d46-f5bc-d698cd28b0c7"
      },
      "execution_count": null,
      "outputs": [
        {
          "output_type": "stream",
          "name": "stdout",
          "text": [
            "/content/yolov5\n"
          ]
        }
      ]
    },
    {
      "cell_type": "markdown",
      "source": [
        "from google.colab import drive\n",
        "drive.mount('/content/drive')\n"
      ],
      "metadata": {
        "id": "EloVUaL1YAJy"
      }
    },
    {
      "cell_type": "code",
      "source": [
        "!python train.py --img 640 --batch 16 --epochs 50 --data {dataset.location}/data.yaml --weights yolov5s.pt --cache --project '/content/drive/MyDrive/yolov5_training' --name 'grosserydetection1910'\n"
      ],
      "metadata": {
        "colab": {
          "base_uri": "https://localhost:8080/"
        },
        "id": "dpte9r2CYK6_",
        "outputId": "d93271c7-6128-450f-f00c-484694f9103a"
      },
      "execution_count": null,
      "outputs": [
        {
          "output_type": "stream",
          "name": "stdout",
          "text": [
            "Traceback (most recent call last):\n",
            "  File \"/content/yolov5/train.py\", line 47, in <module>\n",
            "    import val as validate  # for end-of-epoch mAP\n",
            "  File \"/content/yolov5/val.py\", line 60, in <module>\n",
            "    from utils.plots import output_to_target, plot_images, plot_val_study\n",
            "  File \"/content/yolov5/utils/plots.py\", line 15, in <module>\n",
            "    import seaborn as sn\n",
            "  File \"/usr/local/lib/python3.10/dist-packages/seaborn/__init__.py\", line 12, in <module>\n",
            "    from .widgets import *  # noqa: F401,F403\n",
            "  File \"/usr/local/lib/python3.10/dist-packages/seaborn/widgets.py\", line 6, in <module>\n",
            "    from ipywidgets import interact, FloatSlider, IntSlider\n",
            "  File \"/usr/local/lib/python3.10/dist-packages/ipywidgets/__init__.py\", line 23, in <module>\n",
            "    from IPython import get_ipython\n",
            "  File \"/usr/local/lib/python3.10/dist-packages/IPython/__init__.py\", line 55, in <module>\n",
            "    from .core.application import Application\n",
            "  File \"/usr/local/lib/python3.10/dist-packages/IPython/core/application.py\", line 26, in <module>\n",
            "  File \"/usr/local/lib/python3.10/dist-packages/IPython/core/profiledir.py\", line 14, in <module>\n",
            "    from traitlets import Unicode, Bool, observe\n",
            "  File \"<frozen importlib._bootstrap>\", line 1053, in _handle_fromlist\n",
            "KeyboardInterrupt\n"
          ]
        }
      ]
    },
    {
      "cell_type": "code",
      "source": [
        "!python detect.py --weights /content/drive/MyDrive/yolov5_training/grosserydetection1910/weights/best.pt --img 640 --conf 0.25 --source /content/yolov5/Retail-Store-India-New-2-1/train/images/Copy-of-PXL_20231114_194710678-2_jpg.rf.ca79da3e6dc52f92e331f60e0fddbfa9.jpg --save-txt --save-conf\n"
      ],
      "metadata": {
        "colab": {
          "base_uri": "https://localhost:8080/"
        },
        "id": "lmRaADDLf6Tk",
        "outputId": "eacb66ab-9816-4c90-bad7-f181cce05d6c"
      },
      "execution_count": null,
      "outputs": [
        {
          "output_type": "stream",
          "name": "stdout",
          "text": [
            "\u001b[34m\u001b[1mdetect: \u001b[0mweights=['/content/drive/MyDrive/yolov5_training/grosserydetection1910/weights/best.pt'], source=/content/yolov5/Retail-Store-India-New-2-1/train/images/Copy-of-PXL_20231114_194710678-2_jpg.rf.ca79da3e6dc52f92e331f60e0fddbfa9.jpg, data=data/coco128.yaml, imgsz=[640, 640], conf_thres=0.25, iou_thres=0.45, max_det=1000, device=, view_img=False, save_txt=True, save_format=0, save_csv=False, save_conf=True, save_crop=False, nosave=False, classes=None, agnostic_nms=False, augment=False, visualize=False, update=False, project=runs/detect, name=exp, exist_ok=False, line_thickness=3, hide_labels=False, hide_conf=False, half=False, dnn=False, vid_stride=1\n",
            "YOLOv5 🚀 v7.0-376-gbcd88eaf Python-3.10.12 torch-2.4.1+cu121 CPU\n",
            "\n",
            "Fusing layers... \n",
            "Model summary: 157 layers, 7123399 parameters, 0 gradients, 16.1 GFLOPs\n",
            "image 1/1 /content/yolov5/Retail-Store-India-New-2-1/train/images/Copy-of-PXL_20231114_194710678-2_jpg.rf.ca79da3e6dc52f92e331f60e0fddbfa9.jpg: 640x640 1 Amul Cheese Block 200g, 1 Candid Dusting Powder 120g, 1 Nescafe Classic Instant Coffee  190g, 1 Relispray  36g, 497.7ms\n",
            "Speed: 8.8ms pre-process, 497.7ms inference, 1.8ms NMS per image at shape (1, 3, 640, 640)\n",
            "Results saved to \u001b[1mruns/detect/exp\u001b[0m\n",
            "1 labels saved to runs/detect/exp/labels\n"
          ]
        }
      ]
    },
    {
      "cell_type": "markdown",
      "source": [
        "!python detect.py --weights /content/drive/MyDrive/yolov5_training/grosserydetection1910/weights/best.pt --img 640 --conf 0.25 --source /content/Retail-Store-India-New-2-1/train/images/Copy-of-20231114_200939_jpg.rf.8d0c5defabb52a78823919828a267772.jpg\n",
        "\n"
      ],
      "metadata": {
        "id": "TdJADX3OhPXY"
      }
    },
    {
      "cell_type": "code",
      "source": [
        "# Replace /path/to/your/video.mp4 with the actual path to your video\n",
        "!python detect.py --weights /content/drive/MyDrive/yolov5_training/grosserydetection1910/weights/best.pt \\\n",
        "--img 640 --conf 0.25 --source /content/output_videogrossery.avi \\\n",
        "--save-txt --save-conf --project '/content/drive/MyDrive/yolov5_video_output' \\\n",
        "--name 'video_detection_results'\n"
      ],
      "metadata": {
        "colab": {
          "base_uri": "https://localhost:8080/"
        },
        "id": "eNi9WHSzIwkk",
        "outputId": "7ed4fb46-406d-47d9-c407-db7aea20e437"
      },
      "execution_count": null,
      "outputs": [
        {
          "output_type": "stream",
          "name": "stdout",
          "text": [
            "\u001b[34m\u001b[1mdetect: \u001b[0mweights=['/content/drive/MyDrive/yolov5_training/grosserydetection1910/weights/best.pt'], source=/content/output_videogrossery.avi, data=data/coco128.yaml, imgsz=[640, 640], conf_thres=0.25, iou_thres=0.45, max_det=1000, device=, view_img=False, save_txt=True, save_format=0, save_csv=False, save_conf=True, save_crop=False, nosave=False, classes=None, agnostic_nms=False, augment=False, visualize=False, update=False, project=/content/drive/MyDrive/yolov5_video_output, name=video_detection_results, exist_ok=False, line_thickness=3, hide_labels=False, hide_conf=False, half=False, dnn=False, vid_stride=1\n",
            "YOLOv5 🚀 v7.0-376-gbcd88eaf Python-3.10.12 torch-2.4.1+cu121 CPU\n",
            "\n",
            "Fusing layers... \n",
            "Model summary: 157 layers, 7123399 parameters, 0 gradients, 16.1 GFLOPs\n",
            "video 1/1 (1/180) /content/output_videogrossery.avi: 640x640 1 Dermi Cool Powder 150g, 1 Dove Beauty Cream, 2 NIC Honestly Natural Gulab Jamun -500ml-s, 1 Rin Monthly Pack -4 Bars-, 441.9ms\n",
            "video 1/1 (2/180) /content/output_videogrossery.avi: 640x640 1 Dermi Cool Powder 150g, 1 Dove Beauty Cream, 2 NIC Honestly Natural Gulab Jamun -500ml-s, 1 Rin Monthly Pack -4 Bars-, 438.6ms\n",
            "video 1/1 (3/180) /content/output_videogrossery.avi: 640x640 1 Dermi Cool Powder 150g, 1 Dove Beauty Cream, 2 NIC Honestly Natural Gulab Jamun -500ml-s, 1 Rin Monthly Pack -4 Bars-, 443.9ms\n",
            "video 1/1 (4/180) /content/output_videogrossery.avi: 640x640 1 Dermi Cool Powder 150g, 1 Dove Beauty Cream, 2 NIC Honestly Natural Gulab Jamun -500ml-s, 1 Rin Monthly Pack -4 Bars-, 412.2ms\n",
            "video 1/1 (5/180) /content/output_videogrossery.avi: 640x640 1 Dermi Cool Powder 150g, 1 Dove Beauty Cream, 2 NIC Honestly Natural Gulab Jamun -500ml-s, 1 Rin Monthly Pack -4 Bars-, 420.2ms\n",
            "video 1/1 (6/180) /content/output_videogrossery.avi: 640x640 1 Dermi Cool Powder 150g, 1 Dove Beauty Cream, 2 NIC Honestly Natural Gulab Jamun -500ml-s, 1 Rin Monthly Pack -4 Bars-, 411.2ms\n",
            "video 1/1 (7/180) /content/output_videogrossery.avi: 640x640 1 Dermi Cool Powder 150g, 1 Dove Beauty Cream, 2 NIC Honestly Natural Gulab Jamun -500ml-s, 1 Rin Monthly Pack -4 Bars-, 409.9ms\n",
            "video 1/1 (8/180) /content/output_videogrossery.avi: 640x640 1 Dermi Cool Powder 150g, 1 Dove Beauty Cream, 2 NIC Honestly Natural Gulab Jamun -500ml-s, 1 Rin Monthly Pack -4 Bars-, 404.5ms\n",
            "video 1/1 (9/180) /content/output_videogrossery.avi: 640x640 1 Dermi Cool Powder 150g, 1 Dove Beauty Cream, 2 NIC Honestly Natural Gulab Jamun -500ml-s, 1 Rin Monthly Pack -4 Bars-, 411.7ms\n",
            "video 1/1 (10/180) /content/output_videogrossery.avi: 640x640 1 Dermi Cool Powder 150g, 1 Dove Beauty Cream, 2 NIC Honestly Natural Gulab Jamun -500ml-s, 1 Rin Monthly Pack -4 Bars-, 403.8ms\n",
            "video 1/1 (11/180) /content/output_videogrossery.avi: 640x640 1 Dermi Cool Powder 150g, 1 Dove Beauty Cream, 2 NIC Honestly Natural Gulab Jamun -500ml-s, 1 Rin Monthly Pack -4 Bars-, 409.6ms\n",
            "video 1/1 (12/180) /content/output_videogrossery.avi: 640x640 1 Dermi Cool Powder 150g, 1 Dove Beauty Cream, 2 NIC Honestly Natural Gulab Jamun -500ml-s, 1 Rin Monthly Pack -4 Bars-, 429.0ms\n",
            "video 1/1 (13/180) /content/output_videogrossery.avi: 640x640 1 Dermi Cool Powder 150g, 1 Dove Beauty Cream, 2 NIC Honestly Natural Gulab Jamun -500ml-s, 1 Rin Monthly Pack -4 Bars-, 418.8ms\n",
            "video 1/1 (14/180) /content/output_videogrossery.avi: 640x640 1 Dermi Cool Powder 150g, 1 Dove Beauty Cream, 2 NIC Honestly Natural Gulab Jamun -500ml-s, 1 Rin Monthly Pack -4 Bars-, 418.6ms\n",
            "video 1/1 (15/180) /content/output_videogrossery.avi: 640x640 1 Dermi Cool Powder 150g, 1 Dove Beauty Cream, 2 NIC Honestly Natural Gulab Jamun -500ml-s, 1 Rin Monthly Pack -4 Bars-, 408.2ms\n",
            "video 1/1 (16/180) /content/output_videogrossery.avi: 640x640 1 Dermi Cool Powder 150g, 1 Dove Beauty Cream, 2 NIC Honestly Natural Gulab Jamun -500ml-s, 1 Rin Monthly Pack -4 Bars-, 552.3ms\n",
            "video 1/1 (17/180) /content/output_videogrossery.avi: 640x640 1 Dermi Cool Powder 150g, 1 Dove Beauty Cream, 2 NIC Honestly Natural Gulab Jamun -500ml-s, 1 Rin Monthly Pack -4 Bars-, 648.3ms\n",
            "video 1/1 (18/180) /content/output_videogrossery.avi: 640x640 1 Dermi Cool Powder 150g, 1 Dove Beauty Cream, 2 NIC Honestly Natural Gulab Jamun -500ml-s, 1 Rin Monthly Pack -4 Bars-, 666.4ms\n",
            "video 1/1 (19/180) /content/output_videogrossery.avi: 640x640 1 Dermi Cool Powder 150g, 1 Dove Beauty Cream, 2 NIC Honestly Natural Gulab Jamun -500ml-s, 1 Rin Monthly Pack -4 Bars-, 668.4ms\n",
            "video 1/1 (20/180) /content/output_videogrossery.avi: 640x640 1 Dermi Cool Powder 150g, 1 Dove Beauty Cream, 2 NIC Honestly Natural Gulab Jamun -500ml-s, 1 Rin Monthly Pack -4 Bars-, 623.2ms\n",
            "video 1/1 (21/180) /content/output_videogrossery.avi: 640x640 1 Dermi Cool Powder 150g, 1 Dove Beauty Cream, 2 NIC Honestly Natural Gulab Jamun -500ml-s, 1 Rin Monthly Pack -4 Bars-, 657.3ms\n",
            "video 1/1 (22/180) /content/output_videogrossery.avi: 640x640 1 Dermi Cool Powder 150g, 1 Dove Beauty Cream, 2 NIC Honestly Natural Gulab Jamun -500ml-s, 1 Rin Monthly Pack -4 Bars-, 697.4ms\n",
            "video 1/1 (23/180) /content/output_videogrossery.avi: 640x640 1 Dermi Cool Powder 150g, 1 Dove Beauty Cream, 2 NIC Honestly Natural Gulab Jamun -500ml-s, 1 Rin Monthly Pack -4 Bars-, 607.6ms\n",
            "video 1/1 (24/180) /content/output_videogrossery.avi: 640x640 1 Dermi Cool Powder 150g, 1 Dove Beauty Cream, 2 NIC Honestly Natural Gulab Jamun -500ml-s, 1 Rin Monthly Pack -4 Bars-, 423.4ms\n",
            "video 1/1 (25/180) /content/output_videogrossery.avi: 640x640 1 Dermi Cool Powder 150g, 1 Dove Beauty Cream, 2 NIC Honestly Natural Gulab Jamun -500ml-s, 1 Rin Monthly Pack -4 Bars-, 403.9ms\n",
            "video 1/1 (26/180) /content/output_videogrossery.avi: 640x640 1 Dermi Cool Powder 150g, 1 Dove Beauty Cream, 2 NIC Honestly Natural Gulab Jamun -500ml-s, 1 Rin Monthly Pack -4 Bars-, 421.6ms\n",
            "video 1/1 (27/180) /content/output_videogrossery.avi: 640x640 1 Dermi Cool Powder 150g, 1 Dove Beauty Cream, 2 NIC Honestly Natural Gulab Jamun -500ml-s, 1 Rin Monthly Pack -4 Bars-, 408.1ms\n",
            "video 1/1 (28/180) /content/output_videogrossery.avi: 640x640 1 Dermi Cool Powder 150g, 1 Dove Beauty Cream, 2 NIC Honestly Natural Gulab Jamun -500ml-s, 1 Rin Monthly Pack -4 Bars-, 430.0ms\n",
            "video 1/1 (29/180) /content/output_videogrossery.avi: 640x640 1 Dermi Cool Powder 150g, 1 Dove Beauty Cream, 2 NIC Honestly Natural Gulab Jamun -500ml-s, 1 Rin Monthly Pack -4 Bars-, 418.0ms\n",
            "video 1/1 (30/180) /content/output_videogrossery.avi: 640x640 1 Dermi Cool Powder 150g, 1 Dove Beauty Cream, 2 NIC Honestly Natural Gulab Jamun -500ml-s, 1 Rin Monthly Pack -4 Bars-, 411.1ms\n",
            "video 1/1 (31/180) /content/output_videogrossery.avi: 640x640 1 Everest Chaat Masala 50 g, 1 Godrej Aer Lush Green Fresh Home Fragrance Spray 220 ml, 2 Gold Oils, 1 Pond-s Dreamflower Pink Lily Fragrant Talc 400 g, 1 appy fizz apple juice -250 ml-, 408.9ms\n",
            "video 1/1 (32/180) /content/output_videogrossery.avi: 640x640 1 Everest Chaat Masala 50 g, 1 Godrej Aer Lush Green Fresh Home Fragrance Spray 220 ml, 2 Gold Oils, 1 Pond-s Dreamflower Pink Lily Fragrant Talc 400 g, 1 appy fizz apple juice -250 ml-, 407.3ms\n",
            "video 1/1 (33/180) /content/output_videogrossery.avi: 640x640 1 Everest Chaat Masala 50 g, 1 Godrej Aer Lush Green Fresh Home Fragrance Spray 220 ml, 2 Gold Oils, 1 Pond-s Dreamflower Pink Lily Fragrant Talc 400 g, 1 appy fizz apple juice -250 ml-, 429.6ms\n",
            "video 1/1 (34/180) /content/output_videogrossery.avi: 640x640 1 Everest Chaat Masala 50 g, 1 Godrej Aer Lush Green Fresh Home Fragrance Spray 220 ml, 2 Gold Oils, 1 Pond-s Dreamflower Pink Lily Fragrant Talc 400 g, 1 appy fizz apple juice -250 ml-, 399.2ms\n",
            "video 1/1 (35/180) /content/output_videogrossery.avi: 640x640 1 Everest Chaat Masala 50 g, 1 Godrej Aer Lush Green Fresh Home Fragrance Spray 220 ml, 2 Gold Oils, 1 Pond-s Dreamflower Pink Lily Fragrant Talc 400 g, 1 appy fizz apple juice -250 ml-, 434.6ms\n",
            "video 1/1 (36/180) /content/output_videogrossery.avi: 640x640 1 Everest Chaat Masala 50 g, 1 Godrej Aer Lush Green Fresh Home Fragrance Spray 220 ml, 2 Gold Oils, 1 Pond-s Dreamflower Pink Lily Fragrant Talc 400 g, 1 appy fizz apple juice -250 ml-, 435.5ms\n",
            "video 1/1 (37/180) /content/output_videogrossery.avi: 640x640 1 Everest Chaat Masala 50 g, 1 Godrej Aer Lush Green Fresh Home Fragrance Spray 220 ml, 2 Gold Oils, 1 Pond-s Dreamflower Pink Lily Fragrant Talc 400 g, 1 appy fizz apple juice -250 ml-, 447.7ms\n",
            "video 1/1 (38/180) /content/output_videogrossery.avi: 640x640 1 Everest Chaat Masala 50 g, 1 Godrej Aer Lush Green Fresh Home Fragrance Spray 220 ml, 2 Gold Oils, 1 Pond-s Dreamflower Pink Lily Fragrant Talc 400 g, 1 appy fizz apple juice -250 ml-, 408.0ms\n",
            "video 1/1 (39/180) /content/output_videogrossery.avi: 640x640 1 Everest Chaat Masala 50 g, 1 Godrej Aer Lush Green Fresh Home Fragrance Spray 220 ml, 2 Gold Oils, 1 Pond-s Dreamflower Pink Lily Fragrant Talc 400 g, 1 appy fizz apple juice -250 ml-, 419.1ms\n",
            "video 1/1 (40/180) /content/output_videogrossery.avi: 640x640 1 Everest Chaat Masala 50 g, 1 Godrej Aer Lush Green Fresh Home Fragrance Spray 220 ml, 2 Gold Oils, 1 Pond-s Dreamflower Pink Lily Fragrant Talc 400 g, 1 appy fizz apple juice -250 ml-, 429.4ms\n",
            "video 1/1 (41/180) /content/output_videogrossery.avi: 640x640 1 Everest Chaat Masala 50 g, 1 Godrej Aer Lush Green Fresh Home Fragrance Spray 220 ml, 2 Gold Oils, 1 Pond-s Dreamflower Pink Lily Fragrant Talc 400 g, 1 appy fizz apple juice -250 ml-, 407.0ms\n",
            "video 1/1 (42/180) /content/output_videogrossery.avi: 640x640 1 Everest Chaat Masala 50 g, 1 Godrej Aer Lush Green Fresh Home Fragrance Spray 220 ml, 2 Gold Oils, 1 Pond-s Dreamflower Pink Lily Fragrant Talc 400 g, 1 appy fizz apple juice -250 ml-, 418.3ms\n",
            "video 1/1 (43/180) /content/output_videogrossery.avi: 640x640 1 Everest Chaat Masala 50 g, 1 Godrej Aer Lush Green Fresh Home Fragrance Spray 220 ml, 2 Gold Oils, 1 Pond-s Dreamflower Pink Lily Fragrant Talc 400 g, 1 appy fizz apple juice -250 ml-, 419.1ms\n",
            "video 1/1 (44/180) /content/output_videogrossery.avi: 640x640 1 Everest Chaat Masala 50 g, 1 Godrej Aer Lush Green Fresh Home Fragrance Spray 220 ml, 2 Gold Oils, 1 Pond-s Dreamflower Pink Lily Fragrant Talc 400 g, 1 appy fizz apple juice -250 ml-, 416.1ms\n",
            "video 1/1 (45/180) /content/output_videogrossery.avi: 640x640 1 Everest Chaat Masala 50 g, 1 Godrej Aer Lush Green Fresh Home Fragrance Spray 220 ml, 2 Gold Oils, 1 Pond-s Dreamflower Pink Lily Fragrant Talc 400 g, 1 appy fizz apple juice -250 ml-, 665.8ms\n",
            "video 1/1 (46/180) /content/output_videogrossery.avi: 640x640 1 Everest Chaat Masala 50 g, 1 Godrej Aer Lush Green Fresh Home Fragrance Spray 220 ml, 2 Gold Oils, 1 Pond-s Dreamflower Pink Lily Fragrant Talc 400 g, 1 appy fizz apple juice -250 ml-, 646.4ms\n",
            "video 1/1 (47/180) /content/output_videogrossery.avi: 640x640 1 Everest Chaat Masala 50 g, 1 Godrej Aer Lush Green Fresh Home Fragrance Spray 220 ml, 2 Gold Oils, 1 Pond-s Dreamflower Pink Lily Fragrant Talc 400 g, 1 appy fizz apple juice -250 ml-, 645.2ms\n",
            "video 1/1 (48/180) /content/output_videogrossery.avi: 640x640 1 Everest Chaat Masala 50 g, 1 Godrej Aer Lush Green Fresh Home Fragrance Spray 220 ml, 2 Gold Oils, 1 Pond-s Dreamflower Pink Lily Fragrant Talc 400 g, 1 appy fizz apple juice -250 ml-, 639.9ms\n",
            "video 1/1 (49/180) /content/output_videogrossery.avi: 640x640 1 Everest Chaat Masala 50 g, 1 Godrej Aer Lush Green Fresh Home Fragrance Spray 220 ml, 2 Gold Oils, 1 Pond-s Dreamflower Pink Lily Fragrant Talc 400 g, 1 appy fizz apple juice -250 ml-, 656.7ms\n",
            "video 1/1 (50/180) /content/output_videogrossery.avi: 640x640 1 Everest Chaat Masala 50 g, 1 Godrej Aer Lush Green Fresh Home Fragrance Spray 220 ml, 2 Gold Oils, 1 Pond-s Dreamflower Pink Lily Fragrant Talc 400 g, 1 appy fizz apple juice -250 ml-, 700.8ms\n",
            "video 1/1 (51/180) /content/output_videogrossery.avi: 640x640 1 Everest Chaat Masala 50 g, 1 Godrej Aer Lush Green Fresh Home Fragrance Spray 220 ml, 2 Gold Oils, 1 Pond-s Dreamflower Pink Lily Fragrant Talc 400 g, 1 appy fizz apple juice -250 ml-, 590.8ms\n",
            "video 1/1 (52/180) /content/output_videogrossery.avi: 640x640 1 Everest Chaat Masala 50 g, 1 Godrej Aer Lush Green Fresh Home Fragrance Spray 220 ml, 2 Gold Oils, 1 Pond-s Dreamflower Pink Lily Fragrant Talc 400 g, 1 appy fizz apple juice -250 ml-, 422.0ms\n",
            "video 1/1 (53/180) /content/output_videogrossery.avi: 640x640 1 Everest Chaat Masala 50 g, 1 Godrej Aer Lush Green Fresh Home Fragrance Spray 220 ml, 2 Gold Oils, 1 Pond-s Dreamflower Pink Lily Fragrant Talc 400 g, 1 appy fizz apple juice -250 ml-, 415.1ms\n",
            "video 1/1 (54/180) /content/output_videogrossery.avi: 640x640 1 Everest Chaat Masala 50 g, 1 Godrej Aer Lush Green Fresh Home Fragrance Spray 220 ml, 2 Gold Oils, 1 Pond-s Dreamflower Pink Lily Fragrant Talc 400 g, 1 appy fizz apple juice -250 ml-, 423.4ms\n",
            "video 1/1 (55/180) /content/output_videogrossery.avi: 640x640 1 Everest Chaat Masala 50 g, 1 Godrej Aer Lush Green Fresh Home Fragrance Spray 220 ml, 2 Gold Oils, 1 Pond-s Dreamflower Pink Lily Fragrant Talc 400 g, 1 appy fizz apple juice -250 ml-, 413.7ms\n",
            "video 1/1 (56/180) /content/output_videogrossery.avi: 640x640 1 Everest Chaat Masala 50 g, 1 Godrej Aer Lush Green Fresh Home Fragrance Spray 220 ml, 2 Gold Oils, 1 Pond-s Dreamflower Pink Lily Fragrant Talc 400 g, 1 appy fizz apple juice -250 ml-, 420.9ms\n",
            "video 1/1 (57/180) /content/output_videogrossery.avi: 640x640 1 Everest Chaat Masala 50 g, 1 Godrej Aer Lush Green Fresh Home Fragrance Spray 220 ml, 2 Gold Oils, 1 Pond-s Dreamflower Pink Lily Fragrant Talc 400 g, 1 appy fizz apple juice -250 ml-, 405.3ms\n",
            "video 1/1 (58/180) /content/output_videogrossery.avi: 640x640 1 Everest Chaat Masala 50 g, 1 Godrej Aer Lush Green Fresh Home Fragrance Spray 220 ml, 2 Gold Oils, 1 Pond-s Dreamflower Pink Lily Fragrant Talc 400 g, 1 appy fizz apple juice -250 ml-, 422.4ms\n",
            "video 1/1 (59/180) /content/output_videogrossery.avi: 640x640 1 Everest Chaat Masala 50 g, 1 Godrej Aer Lush Green Fresh Home Fragrance Spray 220 ml, 2 Gold Oils, 1 Pond-s Dreamflower Pink Lily Fragrant Talc 400 g, 1 appy fizz apple juice -250 ml-, 408.7ms\n",
            "video 1/1 (60/180) /content/output_videogrossery.avi: 640x640 1 Everest Chaat Masala 50 g, 1 Godrej Aer Lush Green Fresh Home Fragrance Spray 220 ml, 2 Gold Oils, 1 Pond-s Dreamflower Pink Lily Fragrant Talc 400 g, 1 appy fizz apple juice -250 ml-, 416.9ms\n",
            "video 1/1 (61/180) /content/output_videogrossery.avi: 640x640 2 Amul Butters, 2 Everest Chaat Masala 50 gs, 1 Nescafe Classic Instant Coffee  190g, 1 Parachute Coconut Oil 600ml, 1 Relispray  36g, 420.2ms\n",
            "video 1/1 (62/180) /content/output_videogrossery.avi: 640x640 2 Amul Butters, 2 Everest Chaat Masala 50 gs, 1 Nescafe Classic Instant Coffee  190g, 1 Parachute Coconut Oil 600ml, 1 Relispray  36g, 421.8ms\n",
            "video 1/1 (63/180) /content/output_videogrossery.avi: 640x640 2 Amul Butters, 2 Everest Chaat Masala 50 gs, 1 Nescafe Classic Instant Coffee  190g, 1 Parachute Coconut Oil 600ml, 1 Relispray  36g, 413.1ms\n",
            "video 1/1 (64/180) /content/output_videogrossery.avi: 640x640 2 Amul Butters, 2 Everest Chaat Masala 50 gs, 1 Nescafe Classic Instant Coffee  190g, 1 Parachute Coconut Oil 600ml, 1 Relispray  36g, 403.6ms\n",
            "video 1/1 (65/180) /content/output_videogrossery.avi: 640x640 2 Amul Butters, 2 Everest Chaat Masala 50 gs, 1 Nescafe Classic Instant Coffee  190g, 1 Parachute Coconut Oil 600ml, 1 Relispray  36g, 429.4ms\n",
            "video 1/1 (66/180) /content/output_videogrossery.avi: 640x640 2 Amul Butters, 2 Everest Chaat Masala 50 gs, 1 Nescafe Classic Instant Coffee  190g, 1 Parachute Coconut Oil 600ml, 1 Relispray  36g, 408.0ms\n",
            "video 1/1 (67/180) /content/output_videogrossery.avi: 640x640 2 Amul Butters, 2 Everest Chaat Masala 50 gs, 1 Nescafe Classic Instant Coffee  190g, 1 Parachute Coconut Oil 600ml, 1 Relispray  36g, 427.7ms\n",
            "video 1/1 (68/180) /content/output_videogrossery.avi: 640x640 2 Amul Butters, 2 Everest Chaat Masala 50 gs, 1 Nescafe Classic Instant Coffee  190g, 1 Parachute Coconut Oil 600ml, 1 Relispray  36g, 407.1ms\n",
            "video 1/1 (69/180) /content/output_videogrossery.avi: 640x640 2 Amul Butters, 2 Everest Chaat Masala 50 gs, 1 Nescafe Classic Instant Coffee  190g, 1 Parachute Coconut Oil 600ml, 1 Relispray  36g, 423.1ms\n",
            "video 1/1 (70/180) /content/output_videogrossery.avi: 640x640 2 Amul Butters, 2 Everest Chaat Masala 50 gs, 1 Nescafe Classic Instant Coffee  190g, 1 Parachute Coconut Oil 600ml, 1 Relispray  36g, 398.0ms\n",
            "video 1/1 (71/180) /content/output_videogrossery.avi: 640x640 2 Amul Butters, 2 Everest Chaat Masala 50 gs, 1 Nescafe Classic Instant Coffee  190g, 1 Parachute Coconut Oil 600ml, 1 Relispray  36g, 446.1ms\n",
            "video 1/1 (72/180) /content/output_videogrossery.avi: 640x640 2 Amul Butters, 2 Everest Chaat Masala 50 gs, 1 Nescafe Classic Instant Coffee  190g, 1 Parachute Coconut Oil 600ml, 1 Relispray  36g, 487.5ms\n",
            "video 1/1 (73/180) /content/output_videogrossery.avi: 640x640 2 Amul Butters, 2 Everest Chaat Masala 50 gs, 1 Nescafe Classic Instant Coffee  190g, 1 Parachute Coconut Oil 600ml, 1 Relispray  36g, 634.4ms\n",
            "video 1/1 (74/180) /content/output_videogrossery.avi: 640x640 2 Amul Butters, 2 Everest Chaat Masala 50 gs, 1 Nescafe Classic Instant Coffee  190g, 1 Parachute Coconut Oil 600ml, 1 Relispray  36g, 873.4ms\n",
            "video 1/1 (75/180) /content/output_videogrossery.avi: 640x640 2 Amul Butters, 2 Everest Chaat Masala 50 gs, 1 Nescafe Classic Instant Coffee  190g, 1 Parachute Coconut Oil 600ml, 1 Relispray  36g, 879.9ms\n",
            "video 1/1 (76/180) /content/output_videogrossery.avi: 640x640 2 Amul Butters, 2 Everest Chaat Masala 50 gs, 1 Nescafe Classic Instant Coffee  190g, 1 Parachute Coconut Oil 600ml, 1 Relispray  36g, 637.1ms\n",
            "video 1/1 (77/180) /content/output_videogrossery.avi: 640x640 2 Amul Butters, 2 Everest Chaat Masala 50 gs, 1 Nescafe Classic Instant Coffee  190g, 1 Parachute Coconut Oil 600ml, 1 Relispray  36g, 650.3ms\n",
            "video 1/1 (78/180) /content/output_videogrossery.avi: 640x640 2 Amul Butters, 2 Everest Chaat Masala 50 gs, 1 Nescafe Classic Instant Coffee  190g, 1 Parachute Coconut Oil 600ml, 1 Relispray  36g, 685.2ms\n",
            "video 1/1 (79/180) /content/output_videogrossery.avi: 640x640 2 Amul Butters, 2 Everest Chaat Masala 50 gs, 1 Nescafe Classic Instant Coffee  190g, 1 Parachute Coconut Oil 600ml, 1 Relispray  36g, 534.2ms\n",
            "video 1/1 (80/180) /content/output_videogrossery.avi: 640x640 2 Amul Butters, 2 Everest Chaat Masala 50 gs, 1 Nescafe Classic Instant Coffee  190g, 1 Parachute Coconut Oil 600ml, 1 Relispray  36g, 419.4ms\n",
            "video 1/1 (81/180) /content/output_videogrossery.avi: 640x640 2 Amul Butters, 2 Everest Chaat Masala 50 gs, 1 Nescafe Classic Instant Coffee  190g, 1 Parachute Coconut Oil 600ml, 1 Relispray  36g, 421.0ms\n",
            "video 1/1 (82/180) /content/output_videogrossery.avi: 640x640 2 Amul Butters, 2 Everest Chaat Masala 50 gs, 1 Nescafe Classic Instant Coffee  190g, 1 Parachute Coconut Oil 600ml, 1 Relispray  36g, 422.2ms\n",
            "video 1/1 (83/180) /content/output_videogrossery.avi: 640x640 2 Amul Butters, 2 Everest Chaat Masala 50 gs, 1 Nescafe Classic Instant Coffee  190g, 1 Parachute Coconut Oil 600ml, 1 Relispray  36g, 419.8ms\n",
            "video 1/1 (84/180) /content/output_videogrossery.avi: 640x640 2 Amul Butters, 2 Everest Chaat Masala 50 gs, 1 Nescafe Classic Instant Coffee  190g, 1 Parachute Coconut Oil 600ml, 1 Relispray  36g, 450.3ms\n",
            "video 1/1 (85/180) /content/output_videogrossery.avi: 640x640 2 Amul Butters, 2 Everest Chaat Masala 50 gs, 1 Nescafe Classic Instant Coffee  190g, 1 Parachute Coconut Oil 600ml, 1 Relispray  36g, 406.2ms\n",
            "video 1/1 (86/180) /content/output_videogrossery.avi: 640x640 2 Amul Butters, 2 Everest Chaat Masala 50 gs, 1 Nescafe Classic Instant Coffee  190g, 1 Parachute Coconut Oil 600ml, 1 Relispray  36g, 427.3ms\n",
            "video 1/1 (87/180) /content/output_videogrossery.avi: 640x640 2 Amul Butters, 2 Everest Chaat Masala 50 gs, 1 Nescafe Classic Instant Coffee  190g, 1 Parachute Coconut Oil 600ml, 1 Relispray  36g, 418.6ms\n",
            "video 1/1 (88/180) /content/output_videogrossery.avi: 640x640 2 Amul Butters, 2 Everest Chaat Masala 50 gs, 1 Nescafe Classic Instant Coffee  190g, 1 Parachute Coconut Oil 600ml, 1 Relispray  36g, 449.1ms\n",
            "video 1/1 (89/180) /content/output_videogrossery.avi: 640x640 2 Amul Butters, 2 Everest Chaat Masala 50 gs, 1 Nescafe Classic Instant Coffee  190g, 1 Parachute Coconut Oil 600ml, 1 Relispray  36g, 410.2ms\n",
            "video 1/1 (90/180) /content/output_videogrossery.avi: 640x640 2 Amul Butters, 2 Everest Chaat Masala 50 gs, 1 Nescafe Classic Instant Coffee  190g, 1 Parachute Coconut Oil 600ml, 1 Relispray  36g, 420.1ms\n",
            "video 1/1 (91/180) /content/output_videogrossery.avi: 640x640 1 Amul Cheese Block 200g, 1 Candid Dusting Powder 120g, 1 Nescafe Classic Instant Coffee  190g, 1 Relispray  36g, 402.4ms\n",
            "video 1/1 (92/180) /content/output_videogrossery.avi: 640x640 1 Amul Cheese Block 200g, 1 Candid Dusting Powder 120g, 1 Nescafe Classic Instant Coffee  190g, 1 Relispray  36g, 422.0ms\n",
            "video 1/1 (93/180) /content/output_videogrossery.avi: 640x640 1 Amul Cheese Block 200g, 1 Candid Dusting Powder 120g, 1 Nescafe Classic Instant Coffee  190g, 1 Relispray  36g, 423.7ms\n",
            "video 1/1 (94/180) /content/output_videogrossery.avi: 640x640 1 Amul Cheese Block 200g, 1 Candid Dusting Powder 120g, 1 Nescafe Classic Instant Coffee  190g, 1 Relispray  36g, 426.2ms\n",
            "video 1/1 (95/180) /content/output_videogrossery.avi: 640x640 1 Amul Cheese Block 200g, 1 Candid Dusting Powder 120g, 1 Nescafe Classic Instant Coffee  190g, 1 Relispray  36g, 419.2ms\n",
            "video 1/1 (96/180) /content/output_videogrossery.avi: 640x640 1 Amul Cheese Block 200g, 1 Candid Dusting Powder 120g, 1 Nescafe Classic Instant Coffee  190g, 1 Relispray  36g, 430.3ms\n",
            "video 1/1 (97/180) /content/output_videogrossery.avi: 640x640 1 Amul Cheese Block 200g, 1 Candid Dusting Powder 120g, 1 Nescafe Classic Instant Coffee  190g, 1 Relispray  36g, 422.6ms\n",
            "video 1/1 (98/180) /content/output_videogrossery.avi: 640x640 1 Amul Cheese Block 200g, 1 Candid Dusting Powder 120g, 1 Nescafe Classic Instant Coffee  190g, 1 Relispray  36g, 420.0ms\n",
            "video 1/1 (99/180) /content/output_videogrossery.avi: 640x640 1 Amul Cheese Block 200g, 1 Candid Dusting Powder 120g, 1 Nescafe Classic Instant Coffee  190g, 1 Relispray  36g, 404.6ms\n",
            "video 1/1 (100/180) /content/output_videogrossery.avi: 640x640 1 Amul Cheese Block 200g, 1 Candid Dusting Powder 120g, 1 Nescafe Classic Instant Coffee  190g, 1 Relispray  36g, 515.1ms\n",
            "video 1/1 (101/180) /content/output_videogrossery.avi: 640x640 1 Amul Cheese Block 200g, 1 Candid Dusting Powder 120g, 1 Nescafe Classic Instant Coffee  190g, 1 Relispray  36g, 654.6ms\n",
            "video 1/1 (102/180) /content/output_videogrossery.avi: 640x640 1 Amul Cheese Block 200g, 1 Candid Dusting Powder 120g, 1 Nescafe Classic Instant Coffee  190g, 1 Relispray  36g, 639.7ms\n",
            "video 1/1 (103/180) /content/output_videogrossery.avi: 640x640 1 Amul Cheese Block 200g, 1 Candid Dusting Powder 120g, 1 Nescafe Classic Instant Coffee  190g, 1 Relispray  36g, 639.3ms\n",
            "video 1/1 (104/180) /content/output_videogrossery.avi: 640x640 1 Amul Cheese Block 200g, 1 Candid Dusting Powder 120g, 1 Nescafe Classic Instant Coffee  190g, 1 Relispray  36g, 635.3ms\n",
            "video 1/1 (105/180) /content/output_videogrossery.avi: 640x640 1 Amul Cheese Block 200g, 1 Candid Dusting Powder 120g, 1 Nescafe Classic Instant Coffee  190g, 1 Relispray  36g, 666.6ms\n",
            "video 1/1 (106/180) /content/output_videogrossery.avi: 640x640 1 Amul Cheese Block 200g, 1 Candid Dusting Powder 120g, 1 Nescafe Classic Instant Coffee  190g, 1 Relispray  36g, 685.6ms\n",
            "video 1/1 (107/180) /content/output_videogrossery.avi: 640x640 1 Amul Cheese Block 200g, 1 Candid Dusting Powder 120g, 1 Nescafe Classic Instant Coffee  190g, 1 Relispray  36g, 652.9ms\n",
            "video 1/1 (108/180) /content/output_videogrossery.avi: 640x640 1 Amul Cheese Block 200g, 1 Candid Dusting Powder 120g, 1 Nescafe Classic Instant Coffee  190g, 1 Relispray  36g, 486.1ms\n",
            "video 1/1 (109/180) /content/output_videogrossery.avi: 640x640 1 Amul Cheese Block 200g, 1 Candid Dusting Powder 120g, 1 Nescafe Classic Instant Coffee  190g, 1 Relispray  36g, 427.6ms\n",
            "video 1/1 (110/180) /content/output_videogrossery.avi: 640x640 1 Amul Cheese Block 200g, 1 Candid Dusting Powder 120g, 1 Nescafe Classic Instant Coffee  190g, 1 Relispray  36g, 410.1ms\n",
            "video 1/1 (111/180) /content/output_videogrossery.avi: 640x640 1 Amul Cheese Block 200g, 1 Candid Dusting Powder 120g, 1 Nescafe Classic Instant Coffee  190g, 1 Relispray  36g, 402.1ms\n",
            "video 1/1 (112/180) /content/output_videogrossery.avi: 640x640 1 Amul Cheese Block 200g, 1 Candid Dusting Powder 120g, 1 Nescafe Classic Instant Coffee  190g, 1 Relispray  36g, 434.5ms\n",
            "video 1/1 (113/180) /content/output_videogrossery.avi: 640x640 1 Amul Cheese Block 200g, 1 Candid Dusting Powder 120g, 1 Nescafe Classic Instant Coffee  190g, 1 Relispray  36g, 404.8ms\n",
            "video 1/1 (114/180) /content/output_videogrossery.avi: 640x640 1 Amul Cheese Block 200g, 1 Candid Dusting Powder 120g, 1 Nescafe Classic Instant Coffee  190g, 1 Relispray  36g, 436.1ms\n",
            "video 1/1 (115/180) /content/output_videogrossery.avi: 640x640 1 Amul Cheese Block 200g, 1 Candid Dusting Powder 120g, 1 Nescafe Classic Instant Coffee  190g, 1 Relispray  36g, 401.8ms\n",
            "video 1/1 (116/180) /content/output_videogrossery.avi: 640x640 1 Amul Cheese Block 200g, 1 Candid Dusting Powder 120g, 1 Nescafe Classic Instant Coffee  190g, 1 Relispray  36g, 428.8ms\n",
            "video 1/1 (117/180) /content/output_videogrossery.avi: 640x640 1 Amul Cheese Block 200g, 1 Candid Dusting Powder 120g, 1 Nescafe Classic Instant Coffee  190g, 1 Relispray  36g, 420.3ms\n",
            "video 1/1 (118/180) /content/output_videogrossery.avi: 640x640 1 Amul Cheese Block 200g, 1 Candid Dusting Powder 120g, 1 Nescafe Classic Instant Coffee  190g, 1 Relispray  36g, 426.9ms\n",
            "video 1/1 (119/180) /content/output_videogrossery.avi: 640x640 1 Amul Cheese Block 200g, 1 Candid Dusting Powder 120g, 1 Nescafe Classic Instant Coffee  190g, 1 Relispray  36g, 412.5ms\n",
            "video 1/1 (120/180) /content/output_videogrossery.avi: 640x640 1 Amul Cheese Block 200g, 1 Candid Dusting Powder 120g, 1 Nescafe Classic Instant Coffee  190g, 1 Relispray  36g, 414.6ms\n",
            "video 1/1 (121/180) /content/output_videogrossery.avi: 640x640 1 Amul Vanilla Magic 1L, 410.5ms\n",
            "video 1/1 (122/180) /content/output_videogrossery.avi: 640x640 1 Amul Vanilla Magic 1L, 419.6ms\n",
            "video 1/1 (123/180) /content/output_videogrossery.avi: 640x640 1 Amul Vanilla Magic 1L, 430.8ms\n",
            "video 1/1 (124/180) /content/output_videogrossery.avi: 640x640 1 Amul Vanilla Magic 1L, 401.4ms\n",
            "video 1/1 (125/180) /content/output_videogrossery.avi: 640x640 1 Amul Vanilla Magic 1L, 434.4ms\n",
            "video 1/1 (126/180) /content/output_videogrossery.avi: 640x640 1 Amul Vanilla Magic 1L, 404.8ms\n",
            "video 1/1 (127/180) /content/output_videogrossery.avi: 640x640 1 Amul Vanilla Magic 1L, 426.7ms\n",
            "video 1/1 (128/180) /content/output_videogrossery.avi: 640x640 1 Amul Vanilla Magic 1L, 427.4ms\n",
            "video 1/1 (129/180) /content/output_videogrossery.avi: 640x640 1 Amul Vanilla Magic 1L, 416.4ms\n",
            "video 1/1 (130/180) /content/output_videogrossery.avi: 640x640 1 Amul Vanilla Magic 1L, 556.3ms\n",
            "video 1/1 (131/180) /content/output_videogrossery.avi: 640x640 1 Amul Vanilla Magic 1L, 659.2ms\n",
            "video 1/1 (132/180) /content/output_videogrossery.avi: 640x640 1 Amul Vanilla Magic 1L, 635.7ms\n",
            "video 1/1 (133/180) /content/output_videogrossery.avi: 640x640 1 Amul Vanilla Magic 1L, 660.0ms\n",
            "video 1/1 (134/180) /content/output_videogrossery.avi: 640x640 1 Amul Vanilla Magic 1L, 661.2ms\n",
            "video 1/1 (135/180) /content/output_videogrossery.avi: 640x640 1 Amul Vanilla Magic 1L, 661.4ms\n",
            "video 1/1 (136/180) /content/output_videogrossery.avi: 640x640 1 Amul Vanilla Magic 1L, 681.3ms\n",
            "video 1/1 (137/180) /content/output_videogrossery.avi: 640x640 1 Amul Vanilla Magic 1L, 684.9ms\n",
            "video 1/1 (138/180) /content/output_videogrossery.avi: 640x640 1 Amul Vanilla Magic 1L, 500.3ms\n",
            "video 1/1 (139/180) /content/output_videogrossery.avi: 640x640 1 Amul Vanilla Magic 1L, 421.7ms\n",
            "video 1/1 (140/180) /content/output_videogrossery.avi: 640x640 1 Amul Vanilla Magic 1L, 428.6ms\n",
            "video 1/1 (141/180) /content/output_videogrossery.avi: 640x640 1 Amul Vanilla Magic 1L, 424.9ms\n",
            "video 1/1 (142/180) /content/output_videogrossery.avi: 640x640 1 Amul Vanilla Magic 1L, 447.3ms\n",
            "video 1/1 (143/180) /content/output_videogrossery.avi: 640x640 1 Amul Vanilla Magic 1L, 421.6ms\n",
            "video 1/1 (144/180) /content/output_videogrossery.avi: 640x640 1 Amul Vanilla Magic 1L, 408.1ms\n",
            "video 1/1 (145/180) /content/output_videogrossery.avi: 640x640 1 Amul Vanilla Magic 1L, 433.3ms\n",
            "video 1/1 (146/180) /content/output_videogrossery.avi: 640x640 1 Amul Vanilla Magic 1L, 412.1ms\n",
            "video 1/1 (147/180) /content/output_videogrossery.avi: 640x640 1 Amul Vanilla Magic 1L, 427.9ms\n",
            "video 1/1 (148/180) /content/output_videogrossery.avi: 640x640 1 Amul Vanilla Magic 1L, 407.3ms\n",
            "video 1/1 (149/180) /content/output_videogrossery.avi: 640x640 1 Amul Vanilla Magic 1L, 416.6ms\n",
            "video 1/1 (150/180) /content/output_videogrossery.avi: 640x640 1 Amul Vanilla Magic 1L, 415.9ms\n",
            "video 1/1 (151/180) /content/output_videogrossery.avi: 640x640 1 Badshah Afgani Hing, 1 Cadbury Bournvita Chocolate Health Drink-1kg-, 396.3ms\n",
            "video 1/1 (152/180) /content/output_videogrossery.avi: 640x640 1 Badshah Afgani Hing, 1 Cadbury Bournvita Chocolate Health Drink-1kg-, 439.4ms\n",
            "video 1/1 (153/180) /content/output_videogrossery.avi: 640x640 1 Badshah Afgani Hing, 1 Cadbury Bournvita Chocolate Health Drink-1kg-, 404.4ms\n",
            "video 1/1 (154/180) /content/output_videogrossery.avi: 640x640 1 Badshah Afgani Hing, 1 Cadbury Bournvita Chocolate Health Drink-1kg-, 426.0ms\n",
            "video 1/1 (155/180) /content/output_videogrossery.avi: 640x640 1 Badshah Afgani Hing, 1 Cadbury Bournvita Chocolate Health Drink-1kg-, 408.2ms\n",
            "video 1/1 (156/180) /content/output_videogrossery.avi: 640x640 1 Badshah Afgani Hing, 1 Cadbury Bournvita Chocolate Health Drink-1kg-, 409.0ms\n",
            "video 1/1 (157/180) /content/output_videogrossery.avi: 640x640 1 Badshah Afgani Hing, 1 Cadbury Bournvita Chocolate Health Drink-1kg-, 434.0ms\n",
            "video 1/1 (158/180) /content/output_videogrossery.avi: 640x640 1 Badshah Afgani Hing, 1 Cadbury Bournvita Chocolate Health Drink-1kg-, 404.4ms\n",
            "video 1/1 (159/180) /content/output_videogrossery.avi: 640x640 1 Badshah Afgani Hing, 1 Cadbury Bournvita Chocolate Health Drink-1kg-, 445.4ms\n",
            "video 1/1 (160/180) /content/output_videogrossery.avi: 640x640 1 Badshah Afgani Hing, 1 Cadbury Bournvita Chocolate Health Drink-1kg-, 413.4ms\n",
            "video 1/1 (161/180) /content/output_videogrossery.avi: 640x640 1 Badshah Afgani Hing, 1 Cadbury Bournvita Chocolate Health Drink-1kg-, 676.7ms\n",
            "video 1/1 (162/180) /content/output_videogrossery.avi: 640x640 1 Badshah Afgani Hing, 1 Cadbury Bournvita Chocolate Health Drink-1kg-, 628.3ms\n",
            "video 1/1 (163/180) /content/output_videogrossery.avi: 640x640 1 Badshah Afgani Hing, 1 Cadbury Bournvita Chocolate Health Drink-1kg-, 650.1ms\n",
            "video 1/1 (164/180) /content/output_videogrossery.avi: 640x640 1 Badshah Afgani Hing, 1 Cadbury Bournvita Chocolate Health Drink-1kg-, 657.8ms\n",
            "video 1/1 (165/180) /content/output_videogrossery.avi: 640x640 1 Badshah Afgani Hing, 1 Cadbury Bournvita Chocolate Health Drink-1kg-, 636.4ms\n",
            "video 1/1 (166/180) /content/output_videogrossery.avi: 640x640 1 Badshah Afgani Hing, 1 Cadbury Bournvita Chocolate Health Drink-1kg-, 667.9ms\n",
            "video 1/1 (167/180) /content/output_videogrossery.avi: 640x640 1 Badshah Afgani Hing, 1 Cadbury Bournvita Chocolate Health Drink-1kg-, 725.7ms\n",
            "video 1/1 (168/180) /content/output_videogrossery.avi: 640x640 1 Badshah Afgani Hing, 1 Cadbury Bournvita Chocolate Health Drink-1kg-, 583.5ms\n",
            "video 1/1 (169/180) /content/output_videogrossery.avi: 640x640 1 Badshah Afgani Hing, 1 Cadbury Bournvita Chocolate Health Drink-1kg-, 424.1ms\n",
            "video 1/1 (170/180) /content/output_videogrossery.avi: 640x640 1 Badshah Afgani Hing, 1 Cadbury Bournvita Chocolate Health Drink-1kg-, 421.4ms\n",
            "video 1/1 (171/180) /content/output_videogrossery.avi: 640x640 1 Badshah Afgani Hing, 1 Cadbury Bournvita Chocolate Health Drink-1kg-, 437.8ms\n",
            "video 1/1 (172/180) /content/output_videogrossery.avi: 640x640 1 Badshah Afgani Hing, 1 Cadbury Bournvita Chocolate Health Drink-1kg-, 409.2ms\n",
            "video 1/1 (173/180) /content/output_videogrossery.avi: 640x640 1 Badshah Afgani Hing, 1 Cadbury Bournvita Chocolate Health Drink-1kg-, 440.6ms\n",
            "video 1/1 (174/180) /content/output_videogrossery.avi: 640x640 1 Badshah Afgani Hing, 1 Cadbury Bournvita Chocolate Health Drink-1kg-, 406.3ms\n",
            "video 1/1 (175/180) /content/output_videogrossery.avi: 640x640 1 Badshah Afgani Hing, 1 Cadbury Bournvita Chocolate Health Drink-1kg-, 430.1ms\n",
            "video 1/1 (176/180) /content/output_videogrossery.avi: 640x640 1 Badshah Afgani Hing, 1 Cadbury Bournvita Chocolate Health Drink-1kg-, 426.1ms\n",
            "video 1/1 (177/180) /content/output_videogrossery.avi: 640x640 1 Badshah Afgani Hing, 1 Cadbury Bournvita Chocolate Health Drink-1kg-, 416.9ms\n",
            "video 1/1 (178/180) /content/output_videogrossery.avi: 640x640 1 Badshah Afgani Hing, 1 Cadbury Bournvita Chocolate Health Drink-1kg-, 413.9ms\n",
            "video 1/1 (179/180) /content/output_videogrossery.avi: 640x640 1 Badshah Afgani Hing, 1 Cadbury Bournvita Chocolate Health Drink-1kg-, 421.0ms\n",
            "video 1/1 (180/180) /content/output_videogrossery.avi: 640x640 1 Badshah Afgani Hing, 1 Cadbury Bournvita Chocolate Health Drink-1kg-, 432.1ms\n",
            "Speed: 1.4ms pre-process, 480.7ms inference, 1.4ms NMS per image at shape (1, 3, 640, 640)\n",
            "Results saved to \u001b[1m/content/drive/MyDrive/yolov5_video_output/video_detection_results3\u001b[0m\n",
            "180 labels saved to /content/drive/MyDrive/yolov5_video_output/video_detection_results3/labels\n"
          ]
        }
      ]
    },
    {
      "cell_type": "code",
      "source": [
        "from google.colab import drive\n",
        "drive.mount('/content/drive')"
      ],
      "metadata": {
        "colab": {
          "base_uri": "https://localhost:8080/"
        },
        "id": "LjFz7GFLI1o1",
        "outputId": "377eca3a-2ea3-4e95-bea1-4db6df680782"
      },
      "execution_count": null,
      "outputs": [
        {
          "output_type": "stream",
          "name": "stdout",
          "text": [
            "Drive already mounted at /content/drive; to attempt to forcibly remount, call drive.mount(\"/content/drive\", force_remount=True).\n"
          ]
        }
      ]
    },
    {
      "cell_type": "code",
      "source": [
        "!python detect.py --weights /content/drive/MyDrive/yolov5_training/grosserydetection1910/weights/best.pt --img 640 --conf 0.25 --source /content/grossseyimg.jpg"
      ],
      "metadata": {
        "colab": {
          "base_uri": "https://localhost:8080/"
        },
        "id": "ICzAMyDBE3z3",
        "outputId": "e698811f-a5b8-42c6-ff6a-66bdf48e6ffb"
      },
      "execution_count": null,
      "outputs": [
        {
          "output_type": "stream",
          "name": "stdout",
          "text": [
            "\u001b[34m\u001b[1mdetect: \u001b[0mweights=['/content/drive/MyDrive/yolov5_training/grosserydetection1910/weights/best.pt'], source=/content/grossseyimg.jpg, data=data/coco128.yaml, imgsz=[640, 640], conf_thres=0.25, iou_thres=0.45, max_det=1000, device=, view_img=False, save_txt=False, save_format=0, save_csv=False, save_conf=False, save_crop=False, nosave=False, classes=None, agnostic_nms=False, augment=False, visualize=False, update=False, project=runs/detect, name=exp, exist_ok=False, line_thickness=3, hide_labels=False, hide_conf=False, half=False, dnn=False, vid_stride=1\n",
            "YOLOv5 🚀 v7.0-377-g24ee2801 Python-3.10.12 torch-2.4.1+cu121 CUDA:0 (Tesla T4, 15102MiB)\n",
            "\n",
            "Fusing layers... \n",
            "Model summary: 157 layers, 7123399 parameters, 0 gradients, 16.1 GFLOPs\n",
            "WARNING ⚠️ NMS time limit 0.550s exceeded\n",
            "image 1/1 /content/grossseyimg.jpg: 352x640 2 Badshah Afgani Hings, 2 Everest Pav Bhaji Masala 100 gs, 2 Govardhan Pure cow Ghee -200ml-s, 2 Knorr Pizza Pasta Sauces, 2 Pintola High Protein Peanut Butter-510 gm-s, 28.4ms\n",
            "Speed: 0.6ms pre-process, 28.4ms inference, 641.0ms NMS per image at shape (1, 3, 640, 640)\n",
            "Results saved to \u001b[1mruns/detect/exp\u001b[0m\n"
          ]
        }
      ]
    },
    {
      "cell_type": "markdown",
      "source": [
        "count + recognization\n"
      ],
      "metadata": {
        "id": "lMvU7AUzNWuP"
      }
    },
    {
      "cell_type": "code",
      "source": [
        "!pip install -U torch torchvision torchaudio\n",
        "!pip install -r yolov5/requirements.txt\n"
      ],
      "metadata": {
        "colab": {
          "base_uri": "https://localhost:8080/"
        },
        "id": "h9r_51wXHUXT",
        "outputId": "448cd56e-d1ee-40b3-c8fc-a7149e0c0c92"
      },
      "execution_count": null,
      "outputs": [
        {
          "output_type": "stream",
          "name": "stdout",
          "text": [
            "Requirement already satisfied: torch in /usr/local/lib/python3.10/dist-packages (2.5.0)\n",
            "Requirement already satisfied: torchvision in /usr/local/lib/python3.10/dist-packages (0.20.0)\n",
            "Requirement already satisfied: torchaudio in /usr/local/lib/python3.10/dist-packages (2.5.0)\n",
            "Requirement already satisfied: filelock in /usr/local/lib/python3.10/dist-packages (from torch) (3.16.1)\n",
            "Requirement already satisfied: typing-extensions>=4.8.0 in /usr/local/lib/python3.10/dist-packages (from torch) (4.12.2)\n",
            "Requirement already satisfied: networkx in /usr/local/lib/python3.10/dist-packages (from torch) (3.4.1)\n",
            "Requirement already satisfied: jinja2 in /usr/local/lib/python3.10/dist-packages (from torch) (3.1.4)\n",
            "Requirement already satisfied: fsspec in /usr/local/lib/python3.10/dist-packages (from torch) (2024.6.1)\n",
            "Requirement already satisfied: nvidia-cuda-nvrtc-cu12==12.4.127 in /usr/local/lib/python3.10/dist-packages (from torch) (12.4.127)\n",
            "Requirement already satisfied: nvidia-cuda-runtime-cu12==12.4.127 in /usr/local/lib/python3.10/dist-packages (from torch) (12.4.127)\n",
            "Requirement already satisfied: nvidia-cuda-cupti-cu12==12.4.127 in /usr/local/lib/python3.10/dist-packages (from torch) (12.4.127)\n",
            "Requirement already satisfied: nvidia-cudnn-cu12==9.1.0.70 in /usr/local/lib/python3.10/dist-packages (from torch) (9.1.0.70)\n",
            "Requirement already satisfied: nvidia-cublas-cu12==12.4.5.8 in /usr/local/lib/python3.10/dist-packages (from torch) (12.4.5.8)\n",
            "Requirement already satisfied: nvidia-cufft-cu12==11.2.1.3 in /usr/local/lib/python3.10/dist-packages (from torch) (11.2.1.3)\n",
            "Requirement already satisfied: nvidia-curand-cu12==10.3.5.147 in /usr/local/lib/python3.10/dist-packages (from torch) (10.3.5.147)\n",
            "Requirement already satisfied: nvidia-cusolver-cu12==11.6.1.9 in /usr/local/lib/python3.10/dist-packages (from torch) (11.6.1.9)\n",
            "Requirement already satisfied: nvidia-cusparse-cu12==12.3.1.170 in /usr/local/lib/python3.10/dist-packages (from torch) (12.3.1.170)\n",
            "Requirement already satisfied: nvidia-nccl-cu12==2.21.5 in /usr/local/lib/python3.10/dist-packages (from torch) (2.21.5)\n",
            "Requirement already satisfied: nvidia-nvtx-cu12==12.4.127 in /usr/local/lib/python3.10/dist-packages (from torch) (12.4.127)\n",
            "Requirement already satisfied: nvidia-nvjitlink-cu12==12.4.127 in /usr/local/lib/python3.10/dist-packages (from torch) (12.4.127)\n",
            "Requirement already satisfied: triton==3.1.0 in /usr/local/lib/python3.10/dist-packages (from torch) (3.1.0)\n",
            "Requirement already satisfied: sympy==1.13.1 in /usr/local/lib/python3.10/dist-packages (from torch) (1.13.1)\n",
            "Requirement already satisfied: mpmath<1.4,>=1.1.0 in /usr/local/lib/python3.10/dist-packages (from sympy==1.13.1->torch) (1.3.0)\n",
            "Requirement already satisfied: numpy in /usr/local/lib/python3.10/dist-packages (from torchvision) (1.26.4)\n",
            "Requirement already satisfied: pillow!=8.3.*,>=5.3.0 in /usr/local/lib/python3.10/dist-packages (from torchvision) (10.4.0)\n",
            "Requirement already satisfied: MarkupSafe>=2.0 in /usr/local/lib/python3.10/dist-packages (from jinja2->torch) (3.0.1)\n",
            "Requirement already satisfied: gitpython>=3.1.30 in /usr/local/lib/python3.10/dist-packages (from -r yolov5/requirements.txt (line 5)) (3.1.43)\n",
            "Requirement already satisfied: matplotlib>=3.3 in /usr/local/lib/python3.10/dist-packages (from -r yolov5/requirements.txt (line 6)) (3.7.1)\n",
            "Requirement already satisfied: numpy>=1.23.5 in /usr/local/lib/python3.10/dist-packages (from -r yolov5/requirements.txt (line 7)) (1.26.4)\n",
            "Requirement already satisfied: opencv-python>=4.1.1 in /usr/local/lib/python3.10/dist-packages (from -r yolov5/requirements.txt (line 8)) (4.10.0.84)\n",
            "Requirement already satisfied: pillow>=10.3.0 in /usr/local/lib/python3.10/dist-packages (from -r yolov5/requirements.txt (line 9)) (10.4.0)\n",
            "Requirement already satisfied: psutil in /usr/local/lib/python3.10/dist-packages (from -r yolov5/requirements.txt (line 10)) (5.9.5)\n",
            "Requirement already satisfied: PyYAML>=5.3.1 in /usr/local/lib/python3.10/dist-packages (from -r yolov5/requirements.txt (line 11)) (6.0.2)\n",
            "Requirement already satisfied: requests>=2.32.2 in /usr/local/lib/python3.10/dist-packages (from -r yolov5/requirements.txt (line 12)) (2.32.3)\n",
            "Requirement already satisfied: scipy>=1.4.1 in /usr/local/lib/python3.10/dist-packages (from -r yolov5/requirements.txt (line 13)) (1.13.1)\n",
            "Requirement already satisfied: thop>=0.1.1 in /usr/local/lib/python3.10/dist-packages (from -r yolov5/requirements.txt (line 14)) (0.1.1.post2209072238)\n",
            "Requirement already satisfied: torch>=1.8.0 in /usr/local/lib/python3.10/dist-packages (from -r yolov5/requirements.txt (line 15)) (2.5.0)\n",
            "Requirement already satisfied: torchvision>=0.9.0 in /usr/local/lib/python3.10/dist-packages (from -r yolov5/requirements.txt (line 16)) (0.20.0)\n",
            "Requirement already satisfied: tqdm>=4.66.3 in /usr/local/lib/python3.10/dist-packages (from -r yolov5/requirements.txt (line 17)) (4.66.5)\n",
            "Requirement already satisfied: ultralytics>=8.2.34 in /usr/local/lib/python3.10/dist-packages (from -r yolov5/requirements.txt (line 18)) (8.3.18)\n",
            "Requirement already satisfied: pandas>=1.1.4 in /usr/local/lib/python3.10/dist-packages (from -r yolov5/requirements.txt (line 27)) (2.2.2)\n",
            "Requirement already satisfied: seaborn>=0.11.0 in /usr/local/lib/python3.10/dist-packages (from -r yolov5/requirements.txt (line 28)) (0.13.2)\n",
            "Requirement already satisfied: setuptools>=70.0.0 in /usr/local/lib/python3.10/dist-packages (from -r yolov5/requirements.txt (line 42)) (75.1.0)\n",
            "Requirement already satisfied: gitdb<5,>=4.0.1 in /usr/local/lib/python3.10/dist-packages (from gitpython>=3.1.30->-r yolov5/requirements.txt (line 5)) (4.0.11)\n",
            "Requirement already satisfied: contourpy>=1.0.1 in /usr/local/lib/python3.10/dist-packages (from matplotlib>=3.3->-r yolov5/requirements.txt (line 6)) (1.3.0)\n",
            "Requirement already satisfied: cycler>=0.10 in /usr/local/lib/python3.10/dist-packages (from matplotlib>=3.3->-r yolov5/requirements.txt (line 6)) (0.12.1)\n",
            "Requirement already satisfied: fonttools>=4.22.0 in /usr/local/lib/python3.10/dist-packages (from matplotlib>=3.3->-r yolov5/requirements.txt (line 6)) (4.54.1)\n",
            "Requirement already satisfied: kiwisolver>=1.0.1 in /usr/local/lib/python3.10/dist-packages (from matplotlib>=3.3->-r yolov5/requirements.txt (line 6)) (1.4.7)\n",
            "Requirement already satisfied: packaging>=20.0 in /usr/local/lib/python3.10/dist-packages (from matplotlib>=3.3->-r yolov5/requirements.txt (line 6)) (24.1)\n",
            "Requirement already satisfied: pyparsing>=2.3.1 in /usr/local/lib/python3.10/dist-packages (from matplotlib>=3.3->-r yolov5/requirements.txt (line 6)) (3.2.0)\n",
            "Requirement already satisfied: python-dateutil>=2.7 in /usr/local/lib/python3.10/dist-packages (from matplotlib>=3.3->-r yolov5/requirements.txt (line 6)) (2.8.2)\n",
            "Requirement already satisfied: charset-normalizer<4,>=2 in /usr/local/lib/python3.10/dist-packages (from requests>=2.32.2->-r yolov5/requirements.txt (line 12)) (3.4.0)\n",
            "Requirement already satisfied: idna<4,>=2.5 in /usr/local/lib/python3.10/dist-packages (from requests>=2.32.2->-r yolov5/requirements.txt (line 12)) (3.7)\n",
            "Requirement already satisfied: urllib3<3,>=1.21.1 in /usr/local/lib/python3.10/dist-packages (from requests>=2.32.2->-r yolov5/requirements.txt (line 12)) (2.2.3)\n",
            "Requirement already satisfied: certifi>=2017.4.17 in /usr/local/lib/python3.10/dist-packages (from requests>=2.32.2->-r yolov5/requirements.txt (line 12)) (2024.8.30)\n",
            "Requirement already satisfied: filelock in /usr/local/lib/python3.10/dist-packages (from torch>=1.8.0->-r yolov5/requirements.txt (line 15)) (3.16.1)\n",
            "Requirement already satisfied: typing-extensions>=4.8.0 in /usr/local/lib/python3.10/dist-packages (from torch>=1.8.0->-r yolov5/requirements.txt (line 15)) (4.12.2)\n",
            "Requirement already satisfied: networkx in /usr/local/lib/python3.10/dist-packages (from torch>=1.8.0->-r yolov5/requirements.txt (line 15)) (3.4.1)\n",
            "Requirement already satisfied: jinja2 in /usr/local/lib/python3.10/dist-packages (from torch>=1.8.0->-r yolov5/requirements.txt (line 15)) (3.1.4)\n",
            "Requirement already satisfied: fsspec in /usr/local/lib/python3.10/dist-packages (from torch>=1.8.0->-r yolov5/requirements.txt (line 15)) (2024.6.1)\n",
            "Requirement already satisfied: nvidia-cuda-nvrtc-cu12==12.4.127 in /usr/local/lib/python3.10/dist-packages (from torch>=1.8.0->-r yolov5/requirements.txt (line 15)) (12.4.127)\n",
            "Requirement already satisfied: nvidia-cuda-runtime-cu12==12.4.127 in /usr/local/lib/python3.10/dist-packages (from torch>=1.8.0->-r yolov5/requirements.txt (line 15)) (12.4.127)\n",
            "Requirement already satisfied: nvidia-cuda-cupti-cu12==12.4.127 in /usr/local/lib/python3.10/dist-packages (from torch>=1.8.0->-r yolov5/requirements.txt (line 15)) (12.4.127)\n",
            "Requirement already satisfied: nvidia-cudnn-cu12==9.1.0.70 in /usr/local/lib/python3.10/dist-packages (from torch>=1.8.0->-r yolov5/requirements.txt (line 15)) (9.1.0.70)\n",
            "Requirement already satisfied: nvidia-cublas-cu12==12.4.5.8 in /usr/local/lib/python3.10/dist-packages (from torch>=1.8.0->-r yolov5/requirements.txt (line 15)) (12.4.5.8)\n",
            "Requirement already satisfied: nvidia-cufft-cu12==11.2.1.3 in /usr/local/lib/python3.10/dist-packages (from torch>=1.8.0->-r yolov5/requirements.txt (line 15)) (11.2.1.3)\n",
            "Requirement already satisfied: nvidia-curand-cu12==10.3.5.147 in /usr/local/lib/python3.10/dist-packages (from torch>=1.8.0->-r yolov5/requirements.txt (line 15)) (10.3.5.147)\n",
            "Requirement already satisfied: nvidia-cusolver-cu12==11.6.1.9 in /usr/local/lib/python3.10/dist-packages (from torch>=1.8.0->-r yolov5/requirements.txt (line 15)) (11.6.1.9)\n",
            "Requirement already satisfied: nvidia-cusparse-cu12==12.3.1.170 in /usr/local/lib/python3.10/dist-packages (from torch>=1.8.0->-r yolov5/requirements.txt (line 15)) (12.3.1.170)\n",
            "Requirement already satisfied: nvidia-nccl-cu12==2.21.5 in /usr/local/lib/python3.10/dist-packages (from torch>=1.8.0->-r yolov5/requirements.txt (line 15)) (2.21.5)\n",
            "Requirement already satisfied: nvidia-nvtx-cu12==12.4.127 in /usr/local/lib/python3.10/dist-packages (from torch>=1.8.0->-r yolov5/requirements.txt (line 15)) (12.4.127)\n",
            "Requirement already satisfied: nvidia-nvjitlink-cu12==12.4.127 in /usr/local/lib/python3.10/dist-packages (from torch>=1.8.0->-r yolov5/requirements.txt (line 15)) (12.4.127)\n",
            "Requirement already satisfied: triton==3.1.0 in /usr/local/lib/python3.10/dist-packages (from torch>=1.8.0->-r yolov5/requirements.txt (line 15)) (3.1.0)\n",
            "Requirement already satisfied: sympy==1.13.1 in /usr/local/lib/python3.10/dist-packages (from torch>=1.8.0->-r yolov5/requirements.txt (line 15)) (1.13.1)\n",
            "Requirement already satisfied: mpmath<1.4,>=1.1.0 in /usr/local/lib/python3.10/dist-packages (from sympy==1.13.1->torch>=1.8.0->-r yolov5/requirements.txt (line 15)) (1.3.0)\n",
            "Requirement already satisfied: py-cpuinfo in /usr/local/lib/python3.10/dist-packages (from ultralytics>=8.2.34->-r yolov5/requirements.txt (line 18)) (9.0.0)\n",
            "Requirement already satisfied: ultralytics-thop>=2.0.0 in /usr/local/lib/python3.10/dist-packages (from ultralytics>=8.2.34->-r yolov5/requirements.txt (line 18)) (2.0.9)\n",
            "Requirement already satisfied: pytz>=2020.1 in /usr/local/lib/python3.10/dist-packages (from pandas>=1.1.4->-r yolov5/requirements.txt (line 27)) (2024.2)\n",
            "Requirement already satisfied: tzdata>=2022.7 in /usr/local/lib/python3.10/dist-packages (from pandas>=1.1.4->-r yolov5/requirements.txt (line 27)) (2024.2)\n",
            "Requirement already satisfied: smmap<6,>=3.0.1 in /usr/local/lib/python3.10/dist-packages (from gitdb<5,>=4.0.1->gitpython>=3.1.30->-r yolov5/requirements.txt (line 5)) (5.0.1)\n",
            "Requirement already satisfied: six>=1.5 in /usr/local/lib/python3.10/dist-packages (from python-dateutil>=2.7->matplotlib>=3.3->-r yolov5/requirements.txt (line 6)) (1.16.0)\n",
            "Requirement already satisfied: MarkupSafe>=2.0 in /usr/local/lib/python3.10/dist-packages (from jinja2->torch>=1.8.0->-r yolov5/requirements.txt (line 15)) (3.0.1)\n"
          ]
        }
      ]
    },
    {
      "cell_type": "code",
      "source": [
        "import sys\n",
        "sys.path.append('/content/yolov5')  # Adjust the path as necessary\n"
      ],
      "metadata": {
        "id": "Mqy2juIkI4Jk"
      },
      "execution_count": null,
      "outputs": []
    },
    {
      "cell_type": "code",
      "source": [
        "!git clone https://github.com/ultralytics/yolov5.git\n"
      ],
      "metadata": {
        "colab": {
          "base_uri": "https://localhost:8080/"
        },
        "id": "GPo686d4J2-p",
        "outputId": "7e1d3163-cb23-4c8f-f889-2f370a22471f"
      },
      "execution_count": null,
      "outputs": [
        {
          "output_type": "stream",
          "name": "stdout",
          "text": [
            "fatal: destination path 'yolov5' already exists and is not an empty directory.\n"
          ]
        }
      ]
    },
    {
      "cell_type": "code",
      "source": [
        "!cd yolov5 && git pull\n"
      ],
      "metadata": {
        "colab": {
          "base_uri": "https://localhost:8080/"
        },
        "id": "J5hZqjoKJ5Bm",
        "outputId": "9c38806b-db55-44ed-a832-efa514c4bb91"
      },
      "execution_count": null,
      "outputs": [
        {
          "output_type": "stream",
          "name": "stdout",
          "text": [
            "Already up to date.\n"
          ]
        }
      ]
    },
    {
      "cell_type": "code",
      "source": [
        "!pip install -U -r yolov5/requirements.txt\n"
      ],
      "metadata": {
        "colab": {
          "base_uri": "https://localhost:8080/"
        },
        "id": "-AloZQpfJ8Qa",
        "outputId": "c46b2d76-60cc-423a-8be4-8f6aa8e73864"
      },
      "execution_count": null,
      "outputs": [
        {
          "output_type": "stream",
          "name": "stdout",
          "text": [
            "Requirement already satisfied: gitpython>=3.1.30 in /usr/local/lib/python3.10/dist-packages (from -r yolov5/requirements.txt (line 5)) (3.1.43)\n",
            "Requirement already satisfied: matplotlib>=3.3 in /usr/local/lib/python3.10/dist-packages (from -r yolov5/requirements.txt (line 6)) (3.9.2)\n",
            "Requirement already satisfied: numpy>=1.23.5 in /usr/local/lib/python3.10/dist-packages (from -r yolov5/requirements.txt (line 7)) (2.1.2)\n",
            "Requirement already satisfied: opencv-python>=4.1.1 in /usr/local/lib/python3.10/dist-packages (from -r yolov5/requirements.txt (line 8)) (4.10.0.84)\n",
            "Requirement already satisfied: pillow>=10.3.0 in /usr/local/lib/python3.10/dist-packages (from -r yolov5/requirements.txt (line 9)) (11.0.0)\n",
            "Requirement already satisfied: psutil in /usr/local/lib/python3.10/dist-packages (from -r yolov5/requirements.txt (line 10)) (6.1.0)\n",
            "Requirement already satisfied: PyYAML>=5.3.1 in /usr/local/lib/python3.10/dist-packages (from -r yolov5/requirements.txt (line 11)) (6.0.2)\n",
            "Requirement already satisfied: requests>=2.32.2 in /usr/local/lib/python3.10/dist-packages (from -r yolov5/requirements.txt (line 12)) (2.32.3)\n",
            "Requirement already satisfied: scipy>=1.4.1 in /usr/local/lib/python3.10/dist-packages (from -r yolov5/requirements.txt (line 13)) (1.14.1)\n",
            "Requirement already satisfied: thop>=0.1.1 in /usr/local/lib/python3.10/dist-packages (from -r yolov5/requirements.txt (line 14)) (0.1.1.post2209072238)\n",
            "Requirement already satisfied: torch>=1.8.0 in /usr/local/lib/python3.10/dist-packages (from -r yolov5/requirements.txt (line 15)) (2.5.0)\n",
            "Requirement already satisfied: torchvision>=0.9.0 in /usr/local/lib/python3.10/dist-packages (from -r yolov5/requirements.txt (line 16)) (0.20.0)\n",
            "Requirement already satisfied: tqdm>=4.66.3 in /usr/local/lib/python3.10/dist-packages (from -r yolov5/requirements.txt (line 17)) (4.66.5)\n",
            "Requirement already satisfied: ultralytics>=8.2.34 in /usr/local/lib/python3.10/dist-packages (from -r yolov5/requirements.txt (line 18)) (8.3.18)\n",
            "Requirement already satisfied: pandas>=1.1.4 in /usr/local/lib/python3.10/dist-packages (from -r yolov5/requirements.txt (line 27)) (2.2.3)\n",
            "Requirement already satisfied: seaborn>=0.11.0 in /usr/local/lib/python3.10/dist-packages (from -r yolov5/requirements.txt (line 28)) (0.13.2)\n",
            "Requirement already satisfied: setuptools>=70.0.0 in /usr/local/lib/python3.10/dist-packages (from -r yolov5/requirements.txt (line 42)) (75.2.0)\n",
            "Requirement already satisfied: gitdb<5,>=4.0.1 in /usr/local/lib/python3.10/dist-packages (from gitpython>=3.1.30->-r yolov5/requirements.txt (line 5)) (4.0.11)\n",
            "Requirement already satisfied: contourpy>=1.0.1 in /usr/local/lib/python3.10/dist-packages (from matplotlib>=3.3->-r yolov5/requirements.txt (line 6)) (1.3.0)\n",
            "Requirement already satisfied: cycler>=0.10 in /usr/local/lib/python3.10/dist-packages (from matplotlib>=3.3->-r yolov5/requirements.txt (line 6)) (0.12.1)\n",
            "Requirement already satisfied: fonttools>=4.22.0 in /usr/local/lib/python3.10/dist-packages (from matplotlib>=3.3->-r yolov5/requirements.txt (line 6)) (4.54.1)\n",
            "Requirement already satisfied: kiwisolver>=1.3.1 in /usr/local/lib/python3.10/dist-packages (from matplotlib>=3.3->-r yolov5/requirements.txt (line 6)) (1.4.7)\n",
            "Requirement already satisfied: packaging>=20.0 in /usr/local/lib/python3.10/dist-packages (from matplotlib>=3.3->-r yolov5/requirements.txt (line 6)) (24.1)\n",
            "Requirement already satisfied: pyparsing>=2.3.1 in /usr/local/lib/python3.10/dist-packages (from matplotlib>=3.3->-r yolov5/requirements.txt (line 6)) (3.2.0)\n",
            "Requirement already satisfied: python-dateutil>=2.7 in /usr/local/lib/python3.10/dist-packages (from matplotlib>=3.3->-r yolov5/requirements.txt (line 6)) (2.8.2)\n",
            "Requirement already satisfied: charset-normalizer<4,>=2 in /usr/local/lib/python3.10/dist-packages (from requests>=2.32.2->-r yolov5/requirements.txt (line 12)) (3.4.0)\n",
            "Requirement already satisfied: idna<4,>=2.5 in /usr/local/lib/python3.10/dist-packages (from requests>=2.32.2->-r yolov5/requirements.txt (line 12)) (3.7)\n",
            "Requirement already satisfied: urllib3<3,>=1.21.1 in /usr/local/lib/python3.10/dist-packages (from requests>=2.32.2->-r yolov5/requirements.txt (line 12)) (2.2.3)\n",
            "Requirement already satisfied: certifi>=2017.4.17 in /usr/local/lib/python3.10/dist-packages (from requests>=2.32.2->-r yolov5/requirements.txt (line 12)) (2024.8.30)\n",
            "Requirement already satisfied: filelock in /usr/local/lib/python3.10/dist-packages (from torch>=1.8.0->-r yolov5/requirements.txt (line 15)) (3.16.1)\n",
            "Requirement already satisfied: typing-extensions>=4.8.0 in /usr/local/lib/python3.10/dist-packages (from torch>=1.8.0->-r yolov5/requirements.txt (line 15)) (4.12.2)\n",
            "Requirement already satisfied: networkx in /usr/local/lib/python3.10/dist-packages (from torch>=1.8.0->-r yolov5/requirements.txt (line 15)) (3.4.1)\n",
            "Requirement already satisfied: jinja2 in /usr/local/lib/python3.10/dist-packages (from torch>=1.8.0->-r yolov5/requirements.txt (line 15)) (3.1.4)\n",
            "Requirement already satisfied: fsspec in /usr/local/lib/python3.10/dist-packages (from torch>=1.8.0->-r yolov5/requirements.txt (line 15)) (2024.6.1)\n",
            "Requirement already satisfied: nvidia-cuda-nvrtc-cu12==12.4.127 in /usr/local/lib/python3.10/dist-packages (from torch>=1.8.0->-r yolov5/requirements.txt (line 15)) (12.4.127)\n",
            "Requirement already satisfied: nvidia-cuda-runtime-cu12==12.4.127 in /usr/local/lib/python3.10/dist-packages (from torch>=1.8.0->-r yolov5/requirements.txt (line 15)) (12.4.127)\n",
            "Requirement already satisfied: nvidia-cuda-cupti-cu12==12.4.127 in /usr/local/lib/python3.10/dist-packages (from torch>=1.8.0->-r yolov5/requirements.txt (line 15)) (12.4.127)\n",
            "Requirement already satisfied: nvidia-cudnn-cu12==9.1.0.70 in /usr/local/lib/python3.10/dist-packages (from torch>=1.8.0->-r yolov5/requirements.txt (line 15)) (9.1.0.70)\n",
            "Requirement already satisfied: nvidia-cublas-cu12==12.4.5.8 in /usr/local/lib/python3.10/dist-packages (from torch>=1.8.0->-r yolov5/requirements.txt (line 15)) (12.4.5.8)\n",
            "Requirement already satisfied: nvidia-cufft-cu12==11.2.1.3 in /usr/local/lib/python3.10/dist-packages (from torch>=1.8.0->-r yolov5/requirements.txt (line 15)) (11.2.1.3)\n",
            "Requirement already satisfied: nvidia-curand-cu12==10.3.5.147 in /usr/local/lib/python3.10/dist-packages (from torch>=1.8.0->-r yolov5/requirements.txt (line 15)) (10.3.5.147)\n",
            "Requirement already satisfied: nvidia-cusolver-cu12==11.6.1.9 in /usr/local/lib/python3.10/dist-packages (from torch>=1.8.0->-r yolov5/requirements.txt (line 15)) (11.6.1.9)\n",
            "Requirement already satisfied: nvidia-cusparse-cu12==12.3.1.170 in /usr/local/lib/python3.10/dist-packages (from torch>=1.8.0->-r yolov5/requirements.txt (line 15)) (12.3.1.170)\n",
            "Requirement already satisfied: nvidia-nccl-cu12==2.21.5 in /usr/local/lib/python3.10/dist-packages (from torch>=1.8.0->-r yolov5/requirements.txt (line 15)) (2.21.5)\n",
            "Requirement already satisfied: nvidia-nvtx-cu12==12.4.127 in /usr/local/lib/python3.10/dist-packages (from torch>=1.8.0->-r yolov5/requirements.txt (line 15)) (12.4.127)\n",
            "Requirement already satisfied: nvidia-nvjitlink-cu12==12.4.127 in /usr/local/lib/python3.10/dist-packages (from torch>=1.8.0->-r yolov5/requirements.txt (line 15)) (12.4.127)\n",
            "Requirement already satisfied: triton==3.1.0 in /usr/local/lib/python3.10/dist-packages (from torch>=1.8.0->-r yolov5/requirements.txt (line 15)) (3.1.0)\n",
            "Requirement already satisfied: sympy==1.13.1 in /usr/local/lib/python3.10/dist-packages (from torch>=1.8.0->-r yolov5/requirements.txt (line 15)) (1.13.1)\n",
            "Requirement already satisfied: mpmath<1.4,>=1.1.0 in /usr/local/lib/python3.10/dist-packages (from sympy==1.13.1->torch>=1.8.0->-r yolov5/requirements.txt (line 15)) (1.3.0)\n",
            "Requirement already satisfied: py-cpuinfo in /usr/local/lib/python3.10/dist-packages (from ultralytics>=8.2.34->-r yolov5/requirements.txt (line 18)) (9.0.0)\n",
            "Requirement already satisfied: ultralytics-thop>=2.0.0 in /usr/local/lib/python3.10/dist-packages (from ultralytics>=8.2.34->-r yolov5/requirements.txt (line 18)) (2.0.9)\n",
            "Requirement already satisfied: pytz>=2020.1 in /usr/local/lib/python3.10/dist-packages (from pandas>=1.1.4->-r yolov5/requirements.txt (line 27)) (2024.2)\n",
            "Requirement already satisfied: tzdata>=2022.7 in /usr/local/lib/python3.10/dist-packages (from pandas>=1.1.4->-r yolov5/requirements.txt (line 27)) (2024.2)\n",
            "Requirement already satisfied: smmap<6,>=3.0.1 in /usr/local/lib/python3.10/dist-packages (from gitdb<5,>=4.0.1->gitpython>=3.1.30->-r yolov5/requirements.txt (line 5)) (5.0.1)\n",
            "Requirement already satisfied: six>=1.5 in /usr/local/lib/python3.10/dist-packages (from python-dateutil>=2.7->matplotlib>=3.3->-r yolov5/requirements.txt (line 6)) (1.16.0)\n",
            "Requirement already satisfied: MarkupSafe>=2.0 in /usr/local/lib/python3.10/dist-packages (from jinja2->torch>=1.8.0->-r yolov5/requirements.txt (line 15)) (3.0.1)\n"
          ]
        }
      ]
    },
    {
      "cell_type": "code",
      "source": [
        "!ls /content/yolov5/utils\n"
      ],
      "metadata": {
        "colab": {
          "base_uri": "https://localhost:8080/"
        },
        "id": "VnaQfDewKlIN",
        "outputId": "bc8c5f1d-e53a-441e-bc71-3396eb7eb0f2"
      },
      "execution_count": null,
      "outputs": [
        {
          "output_type": "stream",
          "name": "stdout",
          "text": [
            "activations.py\t  aws\t\t  downloads.py\t     __init__.py  plots.py\t  triton.py\n",
            "augmentations.py  callbacks.py\t  flask_rest_api     loggers\t  __pycache__\n",
            "autoanchor.py\t  dataloaders.py  general.py\t     loss.py\t  segment\n",
            "autobatch.py\t  docker\t  google_app_engine  metrics.py   torch_utils.py\n"
          ]
        }
      ]
    },
    {
      "cell_type": "code",
      "source": [
        "# Remove the existing yolov5 directory\n",
        "!rm -rf /content/yolov5\n",
        "\n",
        "# Clone the YOLOv5 repository again\n",
        "!git clone https://github.com/ultralytics/yolov5.git\n",
        "\n",
        "# Navigate to the utils directory and list files to check\n",
        "!ls yolov5/utils\n"
      ],
      "metadata": {
        "colab": {
          "base_uri": "https://localhost:8080/"
        },
        "id": "kivZbquXKuP-",
        "outputId": "d324b79d-7255-460b-f82d-dc2f1dd42022"
      },
      "execution_count": null,
      "outputs": [
        {
          "output_type": "stream",
          "name": "stdout",
          "text": [
            "Cloning into 'yolov5'...\n",
            "remote: Enumerating objects: 17018, done.\u001b[K\n",
            "remote: Counting objects: 100% (213/213), done.\u001b[K\n",
            "remote: Compressing objects: 100% (146/146), done.\u001b[K\n",
            "remote: Total 17018 (delta 120), reused 122 (delta 67), pack-reused 16805 (from 1)\u001b[K\n",
            "Receiving objects: 100% (17018/17018), 15.74 MiB | 10.29 MiB/s, done.\n",
            "Resolving deltas: 100% (11653/11653), done.\n",
            "activations.py\t  aws\t\t  downloads.py\t     __init__.py  plots.py\n",
            "augmentations.py  callbacks.py\t  flask_rest_api     loggers\t  segment\n",
            "autoanchor.py\t  dataloaders.py  general.py\t     loss.py\t  torch_utils.py\n",
            "autobatch.py\t  docker\t  google_app_engine  metrics.py   triton.py\n"
          ]
        }
      ]
    },
    {
      "cell_type": "code",
      "source": [
        "# Navigate to the yolov5 directory\n",
        "%cd yolov5\n",
        "\n",
        "# Install requirements\n",
        "!pip install -U -r requirements.txt\n"
      ],
      "metadata": {
        "colab": {
          "base_uri": "https://localhost:8080/"
        },
        "id": "Leck4lE7K_A7",
        "outputId": "b18d887c-fc2c-44da-fa33-a51c42946ed2"
      },
      "execution_count": null,
      "outputs": [
        {
          "output_type": "stream",
          "name": "stdout",
          "text": [
            "/content/yolov5\n",
            "Requirement already satisfied: gitpython>=3.1.30 in /usr/local/lib/python3.10/dist-packages (from -r requirements.txt (line 5)) (3.1.43)\n",
            "Requirement already satisfied: matplotlib>=3.3 in /usr/local/lib/python3.10/dist-packages (from -r requirements.txt (line 6)) (3.9.2)\n",
            "Requirement already satisfied: numpy>=1.23.5 in /usr/local/lib/python3.10/dist-packages (from -r requirements.txt (line 7)) (2.1.2)\n",
            "Requirement already satisfied: opencv-python>=4.1.1 in /usr/local/lib/python3.10/dist-packages (from -r requirements.txt (line 8)) (4.10.0.84)\n",
            "Requirement already satisfied: pillow>=10.3.0 in /usr/local/lib/python3.10/dist-packages (from -r requirements.txt (line 9)) (11.0.0)\n",
            "Requirement already satisfied: psutil in /usr/local/lib/python3.10/dist-packages (from -r requirements.txt (line 10)) (6.1.0)\n",
            "Requirement already satisfied: PyYAML>=5.3.1 in /usr/local/lib/python3.10/dist-packages (from -r requirements.txt (line 11)) (6.0.2)\n",
            "Requirement already satisfied: requests>=2.32.2 in /usr/local/lib/python3.10/dist-packages (from -r requirements.txt (line 12)) (2.32.3)\n",
            "Requirement already satisfied: scipy>=1.4.1 in /usr/local/lib/python3.10/dist-packages (from -r requirements.txt (line 13)) (1.14.1)\n",
            "Requirement already satisfied: thop>=0.1.1 in /usr/local/lib/python3.10/dist-packages (from -r requirements.txt (line 14)) (0.1.1.post2209072238)\n",
            "Requirement already satisfied: torch>=1.8.0 in /usr/local/lib/python3.10/dist-packages (from -r requirements.txt (line 15)) (2.5.0)\n",
            "Requirement already satisfied: torchvision>=0.9.0 in /usr/local/lib/python3.10/dist-packages (from -r requirements.txt (line 16)) (0.20.0)\n",
            "Requirement already satisfied: tqdm>=4.66.3 in /usr/local/lib/python3.10/dist-packages (from -r requirements.txt (line 17)) (4.66.5)\n",
            "Requirement already satisfied: ultralytics>=8.2.34 in /usr/local/lib/python3.10/dist-packages (from -r requirements.txt (line 18)) (8.3.18)\n",
            "Requirement already satisfied: pandas>=1.1.4 in /usr/local/lib/python3.10/dist-packages (from -r requirements.txt (line 27)) (2.2.3)\n",
            "Requirement already satisfied: seaborn>=0.11.0 in /usr/local/lib/python3.10/dist-packages (from -r requirements.txt (line 28)) (0.13.2)\n",
            "Requirement already satisfied: setuptools>=70.0.0 in /usr/local/lib/python3.10/dist-packages (from -r requirements.txt (line 42)) (75.2.0)\n",
            "Requirement already satisfied: gitdb<5,>=4.0.1 in /usr/local/lib/python3.10/dist-packages (from gitpython>=3.1.30->-r requirements.txt (line 5)) (4.0.11)\n",
            "Requirement already satisfied: contourpy>=1.0.1 in /usr/local/lib/python3.10/dist-packages (from matplotlib>=3.3->-r requirements.txt (line 6)) (1.3.0)\n",
            "Requirement already satisfied: cycler>=0.10 in /usr/local/lib/python3.10/dist-packages (from matplotlib>=3.3->-r requirements.txt (line 6)) (0.12.1)\n",
            "Requirement already satisfied: fonttools>=4.22.0 in /usr/local/lib/python3.10/dist-packages (from matplotlib>=3.3->-r requirements.txt (line 6)) (4.54.1)\n",
            "Requirement already satisfied: kiwisolver>=1.3.1 in /usr/local/lib/python3.10/dist-packages (from matplotlib>=3.3->-r requirements.txt (line 6)) (1.4.7)\n",
            "Requirement already satisfied: packaging>=20.0 in /usr/local/lib/python3.10/dist-packages (from matplotlib>=3.3->-r requirements.txt (line 6)) (24.1)\n",
            "Requirement already satisfied: pyparsing>=2.3.1 in /usr/local/lib/python3.10/dist-packages (from matplotlib>=3.3->-r requirements.txt (line 6)) (3.2.0)\n",
            "Requirement already satisfied: python-dateutil>=2.7 in /usr/local/lib/python3.10/dist-packages (from matplotlib>=3.3->-r requirements.txt (line 6)) (2.8.2)\n",
            "Requirement already satisfied: charset-normalizer<4,>=2 in /usr/local/lib/python3.10/dist-packages (from requests>=2.32.2->-r requirements.txt (line 12)) (3.4.0)\n",
            "Requirement already satisfied: idna<4,>=2.5 in /usr/local/lib/python3.10/dist-packages (from requests>=2.32.2->-r requirements.txt (line 12)) (3.7)\n",
            "Requirement already satisfied: urllib3<3,>=1.21.1 in /usr/local/lib/python3.10/dist-packages (from requests>=2.32.2->-r requirements.txt (line 12)) (2.2.3)\n",
            "Requirement already satisfied: certifi>=2017.4.17 in /usr/local/lib/python3.10/dist-packages (from requests>=2.32.2->-r requirements.txt (line 12)) (2024.8.30)\n",
            "Requirement already satisfied: filelock in /usr/local/lib/python3.10/dist-packages (from torch>=1.8.0->-r requirements.txt (line 15)) (3.16.1)\n",
            "Requirement already satisfied: typing-extensions>=4.8.0 in /usr/local/lib/python3.10/dist-packages (from torch>=1.8.0->-r requirements.txt (line 15)) (4.12.2)\n",
            "Requirement already satisfied: networkx in /usr/local/lib/python3.10/dist-packages (from torch>=1.8.0->-r requirements.txt (line 15)) (3.4.1)\n",
            "Requirement already satisfied: jinja2 in /usr/local/lib/python3.10/dist-packages (from torch>=1.8.0->-r requirements.txt (line 15)) (3.1.4)\n",
            "Requirement already satisfied: fsspec in /usr/local/lib/python3.10/dist-packages (from torch>=1.8.0->-r requirements.txt (line 15)) (2024.6.1)\n",
            "Requirement already satisfied: nvidia-cuda-nvrtc-cu12==12.4.127 in /usr/local/lib/python3.10/dist-packages (from torch>=1.8.0->-r requirements.txt (line 15)) (12.4.127)\n",
            "Requirement already satisfied: nvidia-cuda-runtime-cu12==12.4.127 in /usr/local/lib/python3.10/dist-packages (from torch>=1.8.0->-r requirements.txt (line 15)) (12.4.127)\n",
            "Requirement already satisfied: nvidia-cuda-cupti-cu12==12.4.127 in /usr/local/lib/python3.10/dist-packages (from torch>=1.8.0->-r requirements.txt (line 15)) (12.4.127)\n",
            "Requirement already satisfied: nvidia-cudnn-cu12==9.1.0.70 in /usr/local/lib/python3.10/dist-packages (from torch>=1.8.0->-r requirements.txt (line 15)) (9.1.0.70)\n",
            "Requirement already satisfied: nvidia-cublas-cu12==12.4.5.8 in /usr/local/lib/python3.10/dist-packages (from torch>=1.8.0->-r requirements.txt (line 15)) (12.4.5.8)\n",
            "Requirement already satisfied: nvidia-cufft-cu12==11.2.1.3 in /usr/local/lib/python3.10/dist-packages (from torch>=1.8.0->-r requirements.txt (line 15)) (11.2.1.3)\n",
            "Requirement already satisfied: nvidia-curand-cu12==10.3.5.147 in /usr/local/lib/python3.10/dist-packages (from torch>=1.8.0->-r requirements.txt (line 15)) (10.3.5.147)\n",
            "Requirement already satisfied: nvidia-cusolver-cu12==11.6.1.9 in /usr/local/lib/python3.10/dist-packages (from torch>=1.8.0->-r requirements.txt (line 15)) (11.6.1.9)\n",
            "Requirement already satisfied: nvidia-cusparse-cu12==12.3.1.170 in /usr/local/lib/python3.10/dist-packages (from torch>=1.8.0->-r requirements.txt (line 15)) (12.3.1.170)\n",
            "Requirement already satisfied: nvidia-nccl-cu12==2.21.5 in /usr/local/lib/python3.10/dist-packages (from torch>=1.8.0->-r requirements.txt (line 15)) (2.21.5)\n",
            "Requirement already satisfied: nvidia-nvtx-cu12==12.4.127 in /usr/local/lib/python3.10/dist-packages (from torch>=1.8.0->-r requirements.txt (line 15)) (12.4.127)\n",
            "Requirement already satisfied: nvidia-nvjitlink-cu12==12.4.127 in /usr/local/lib/python3.10/dist-packages (from torch>=1.8.0->-r requirements.txt (line 15)) (12.4.127)\n",
            "Requirement already satisfied: triton==3.1.0 in /usr/local/lib/python3.10/dist-packages (from torch>=1.8.0->-r requirements.txt (line 15)) (3.1.0)\n",
            "Requirement already satisfied: sympy==1.13.1 in /usr/local/lib/python3.10/dist-packages (from torch>=1.8.0->-r requirements.txt (line 15)) (1.13.1)\n",
            "Requirement already satisfied: mpmath<1.4,>=1.1.0 in /usr/local/lib/python3.10/dist-packages (from sympy==1.13.1->torch>=1.8.0->-r requirements.txt (line 15)) (1.3.0)\n",
            "Requirement already satisfied: py-cpuinfo in /usr/local/lib/python3.10/dist-packages (from ultralytics>=8.2.34->-r requirements.txt (line 18)) (9.0.0)\n",
            "Requirement already satisfied: ultralytics-thop>=2.0.0 in /usr/local/lib/python3.10/dist-packages (from ultralytics>=8.2.34->-r requirements.txt (line 18)) (2.0.9)\n",
            "Requirement already satisfied: pytz>=2020.1 in /usr/local/lib/python3.10/dist-packages (from pandas>=1.1.4->-r requirements.txt (line 27)) (2024.2)\n",
            "Requirement already satisfied: tzdata>=2022.7 in /usr/local/lib/python3.10/dist-packages (from pandas>=1.1.4->-r requirements.txt (line 27)) (2024.2)\n",
            "Requirement already satisfied: smmap<6,>=3.0.1 in /usr/local/lib/python3.10/dist-packages (from gitdb<5,>=4.0.1->gitpython>=3.1.30->-r requirements.txt (line 5)) (5.0.1)\n",
            "Requirement already satisfied: six>=1.5 in /usr/local/lib/python3.10/dist-packages (from python-dateutil>=2.7->matplotlib>=3.3->-r requirements.txt (line 6)) (1.16.0)\n",
            "Requirement already satisfied: MarkupSafe>=2.0 in /usr/local/lib/python3.10/dist-packages (from jinja2->torch>=1.8.0->-r requirements.txt (line 15)) (3.0.1)\n"
          ]
        }
      ]
    },
    {
      "cell_type": "markdown",
      "source": [
        "!ls utils\n"
      ],
      "metadata": {
        "id": "byLLHfkNLD6U"
      }
    },
    {
      "cell_type": "code",
      "source": [
        "import torch\n",
        "from yolov5.utils.plots import Annotator, colors\n",
        "from yolov5.utils.general import non_max_suppression\n",
        "from yolov5.utils.torch_utils import select_device\n",
        "from yolov5.utils.dataloaders import LoadImages\n",
        "import cv2\n",
        "from pathlib import Path\n",
        "import pandas as pd\n",
        "\n",
        "def detect_and_count(weights='yolov5s.pt', source='data/images', img_size=640, conf_thres=0.25, iou_thres=0.45):\n",
        "    # Load model\n",
        "    device = select_device('')\n",
        "    model = torch.load(weights, map_location=device)['model'].float()\n",
        "    model.to(device).eval()\n",
        "\n",
        "    # Load images\n",
        "    dataset = LoadImages(source, img_size=img_size)\n",
        "\n",
        "    # Initialize dictionary to store counts\n",
        "    product_counts = {}\n",
        "\n",
        "    # Run inference\n",
        "    for output in dataset:\n",
        "        # Unpack the relevant parts of the output\n",
        "        img_path, img, im0s = output[:3]  # Unpack only the first three items\n",
        "\n",
        "        img = torch.from_numpy(img).to(device)\n",
        "        img = img.float() / 255.0  # Normalize to 0.0 - 1.0\n",
        "        img = img.unsqueeze(0)\n",
        "\n",
        "        pred = model(img)[0]\n",
        "        pred = non_max_suppression(pred, conf_thres, iou_thres)\n",
        "\n",
        "        # Process detections\n",
        "        for det in pred:\n",
        "            if len(det):\n",
        "                # Process each detection\n",
        "                for *xyxy, conf, cls in det:\n",
        "                    label = f'{model.names[int(cls)]}'\n",
        "                    if label not in product_counts:\n",
        "                        product_counts[label] = 0\n",
        "                    product_counts[label] += 1  # Increment count\n",
        "\n",
        "                    # Draw bounding boxes and labels on image\n",
        "                    annotator = Annotator(im0s, line_width=2, example=str(model.names))\n",
        "                    annotator.box_label(xyxy, label, color=colors(int(cls), True))\n",
        "\n",
        "        # Save output image\n",
        "        save_path = str(Path(img_path).name)  # Change to use img_path\n",
        "        cv2.imwrite(save_path, im0s)\n",
        "\n",
        "    # Convert counts to DataFrame for better output formatting\n",
        "    df = pd.DataFrame(product_counts.items(), columns=['Product', 'Quantity'])\n",
        "\n",
        "    # Output product counts\n",
        "    print(\"Detected products across all images:\")\n",
        "    print(df)\n",
        "\n",
        "    return product_counts\n",
        "\n",
        "# Example usage\n",
        "product_counts = detect_and_count(\n",
        "    weights='/content/drive/MyDrive/yolov5_training/grosserydetection1910/weights/best.pt',\n",
        "    source='/content/grossseyimg.jpg',  # Replace with your image path or directory\n",
        ")\n",
        "\n",
        "# Display final counts\n",
        "print(\"Final product counts in the image:\")\n",
        "for product, count in product_counts.items():\n",
        "    print(f\"{product} qty: {count}\")\n"
      ],
      "metadata": {
        "colab": {
          "base_uri": "https://localhost:8080/"
        },
        "id": "tamhCIVfLQwm",
        "outputId": "017d83ed-45b7-4194-8477-0f59b2a3c6aa"
      },
      "execution_count": null,
      "outputs": [
        {
          "output_type": "stream",
          "name": "stderr",
          "text": [
            "YOLOv5 🚀 v7.0-377-g24ee2801 Python-3.10.12 torch-2.5.0+cu124 CUDA:0 (Tesla T4, 15102MiB)\n",
            "\n",
            "WARNING ⚠️ NMS time limit 0.550s exceeded\n"
          ]
        },
        {
          "output_type": "stream",
          "name": "stdout",
          "text": [
            "Detected products across all images:\n",
            "                                      Product  Quantity\n",
            "0  Pintola High Protein Peanut Butter-510 gm-         2\n",
            "1                         Badshah Afgani Hing         2\n",
            "2                     Knorr Pizza Pasta Sauce         2\n",
            "3             Govardhan Pure cow Ghee -200ml-         2\n",
            "4              Everest Pav Bhaji Masala 100 g         2\n",
            "Final product counts in the image:\n",
            "Pintola High Protein Peanut Butter-510 gm- qty: 2\n",
            "Badshah Afgani Hing qty: 2\n",
            "Knorr Pizza Pasta Sauce qty: 2\n",
            "Govardhan Pure cow Ghee -200ml- qty: 2\n",
            "Everest Pav Bhaji Masala 100 g qty: 2\n"
          ]
        }
      ]
    },
    {
      "cell_type": "code",
      "source": [
        "import torch\n",
        "from yolov5.utils.plots import Annotator, colors\n",
        "from yolov5.utils.general import non_max_suppression\n",
        "from yolov5.utils.torch_utils import select_device\n",
        "from yolov5.utils.dataloaders import LoadImages\n",
        "import cv2\n",
        "from pathlib import Path\n",
        "import pandas as pd\n",
        "\n",
        "def detect_and_count(weights='yolov5s.pt', source='data/images', img_size=640, conf_thres=0.25, iou_thres=0.45):\n",
        "    # Load model\n",
        "    device = select_device('')\n",
        "    model = torch.load(weights, map_location=device)['model'].float()\n",
        "    model.to(device).eval()\n",
        "\n",
        "    # Load images\n",
        "    dataset = LoadImages(source, img_size=img_size)\n",
        "\n",
        "    # Initialize dictionary to store counts\n",
        "    product_counts = {}\n",
        "\n",
        "    # Run inference\n",
        "    for output in dataset:\n",
        "        # Unpack the relevant parts of the output\n",
        "        img_path, img, im0s = output[:3]  # Unpack only the first three items\n",
        "\n",
        "        img = torch.from_numpy(img).to(device)\n",
        "        img = img.float() / 255.0  # Normalize to 0.0 - 1.0\n",
        "        img = img.unsqueeze(0)\n",
        "\n",
        "        pred = model(img)[0]\n",
        "        pred = non_max_suppression(pred, conf_thres, iou_thres)\n",
        "\n",
        "        # Process detections\n",
        "        for det in pred:\n",
        "            if len(det):\n",
        "                # Initialize the annotator for the current image\n",
        "                annotator = Annotator(im0s, line_width=2, example=str(model.names))\n",
        "\n",
        "                # Process each detection\n",
        "                for *xyxy, conf, cls in det:\n",
        "                    label = f'{model.names[int(cls)]}'\n",
        "                    if label not in product_counts:\n",
        "                        product_counts[label] = 0\n",
        "                    product_counts[label] += 1  # Increment count\n",
        "\n",
        "                    # Draw bounding boxes and labels on image\n",
        "                    annotator.box_label(xyxy, label, color=colors(int(cls), True))\n",
        "\n",
        "        # Save output image with labels\n",
        "        save_path = f\"/content/annotated_{Path(img_path).name}\"  # Save annotated image\n",
        "        cv2.imwrite(save_path, annotator.result())  # Save the image with annotations\n",
        "\n",
        "    # Convert counts to DataFrame for better output formatting\n",
        "    df = pd.DataFrame(product_counts.items(), columns=['Product', 'Quantity'])\n",
        "\n",
        "    # Output product counts\n",
        "    print(\"Detected products across all images:\")\n",
        "    print(df)\n",
        "\n",
        "    return product_counts\n",
        "\n",
        "# Example usage\n",
        "product_counts = detect_and_count(\n",
        "    weights='/content/drive/MyDrive/yolov5_training/grosserydetection1910/weights/best.pt',\n",
        "    source='/content/grossseyimg.jpg',  # Replace with your image path or directory\n",
        ")\n",
        "\n",
        "# Display final counts\n",
        "print(\"Final product counts in the image:\")\n",
        "for product, count in product_counts.items():\n",
        "    print(f\"{product} qty: {count}\")\n"
      ],
      "metadata": {
        "colab": {
          "base_uri": "https://localhost:8080/"
        },
        "id": "itb8iADQM3ah",
        "outputId": "31ab6a88-f1b1-4c03-ce54-e661d3aa30bf"
      },
      "execution_count": null,
      "outputs": [
        {
          "output_type": "stream",
          "name": "stderr",
          "text": [
            "YOLOv5 🚀 v7.0-377-g24ee2801 Python-3.10.12 torch-2.5.0+cu124 CUDA:0 (Tesla T4, 15102MiB)\n",
            "\n"
          ]
        },
        {
          "output_type": "stream",
          "name": "stdout",
          "text": [
            "Detected products across all images:\n",
            "                                      Product  Quantity\n",
            "0  Pintola High Protein Peanut Butter-510 gm-         2\n",
            "1                         Badshah Afgani Hing         2\n",
            "2                     Knorr Pizza Pasta Sauce         2\n",
            "3             Govardhan Pure cow Ghee -200ml-         2\n",
            "4              Everest Pav Bhaji Masala 100 g         2\n",
            "Final product counts in the image:\n",
            "Pintola High Protein Peanut Butter-510 gm- qty: 2\n",
            "Badshah Afgani Hing qty: 2\n",
            "Knorr Pizza Pasta Sauce qty: 2\n",
            "Govardhan Pure cow Ghee -200ml- qty: 2\n",
            "Everest Pav Bhaji Masala 100 g qty: 2\n"
          ]
        }
      ]
    },
    {
      "cell_type": "code",
      "source": [
        "import torch\n",
        "from yolov5.utils.plots import Annotator, colors\n",
        "from yolov5.utils.general import non_max_suppression\n",
        "from yolov5.utils.torch_utils import select_device\n",
        "from yolov5.utils.dataloaders import LoadImages\n",
        "import cv2\n",
        "from pathlib import Path\n",
        "import pandas as pd\n",
        "\n",
        "def detect_and_count(weights='yolov5s.pt', source='data/images', img_size=640, conf_thres=0.25, iou_thres=0.45):\n",
        "    # Load model\n",
        "    device = select_device('')\n",
        "    model = torch.load(weights, map_location=device)['model'].float()\n",
        "    model.to(device).eval()\n",
        "\n",
        "    # Load images\n",
        "    dataset = LoadImages(source, img_size=img_size)\n",
        "\n",
        "    # Initialize dictionary to store counts\n",
        "    product_counts = {}\n",
        "\n",
        "    # Run inference\n",
        "    for output in dataset:\n",
        "        # Unpack the relevant parts of the output\n",
        "        img_path, img, im0s = output[:3]  # Unpack only the first three items\n",
        "\n",
        "        img = torch.from_numpy(img).to(device)\n",
        "        img = img.float() / 255.0  # Normalize to 0.0 - 1.0\n",
        "        img = img.unsqueeze(0)\n",
        "\n",
        "        pred = model(img)[0]\n",
        "        pred = non_max_suppression(pred, conf_thres, iou_thres)\n",
        "\n",
        "        # Process detections\n",
        "        for det in pred:\n",
        "            if len(det):\n",
        "                # Initialize the annotator for the current image\n",
        "                annotator = Annotator(im0s, line_width=2, example=str(model.names))\n",
        "\n",
        "                # Process each detection\n",
        "                for *xyxy, conf, cls in det:\n",
        "                    label = f'{model.names[int(cls)]}'\n",
        "                    if label not in product_counts:\n",
        "                        product_counts[label] = 0\n",
        "                    product_counts[label] += 1  # Increment count\n",
        "\n",
        "                    # Draw bounding boxes and labels on image\n",
        "                    annotator.box_label(xyxy, label, color=colors(int(cls), True))\n",
        "\n",
        "        # Save output image with labels\n",
        "        save_path = f\"/content/annotated_{Path(img_path).name}\"  # Save annotated image\n",
        "        cv2.imwrite(save_path, annotator.result())  # Save the image with annotations\n",
        "\n",
        "        # Print the saved image path\n",
        "        print(f\"Annotated image saved at: {save_path}\")\n",
        "\n",
        "    # Convert counts to DataFrame for better output formatting\n",
        "    df = pd.DataFrame(product_counts.items(), columns=['Product', 'Quantity'])\n",
        "\n",
        "    # Output product counts\n",
        "    print(\"Detected products across all images:\")\n",
        "    print(df)\n",
        "\n",
        "    return product_counts\n",
        "\n",
        "# Example usage\n",
        "product_counts = detect_and_count(\n",
        "    weights='/content/drive/MyDrive/yolov5_training/grosserydetection1910/weights/best.pt',\n",
        "    source='/content/grossseyimg.jpg',  # Replace with your image path or directory\n",
        ")\n",
        "\n",
        "# Display final counts\n",
        "print(\"Final product counts in the image:\")\n",
        "for product, count in product_counts.items():\n",
        "    print(f\"{product} qty: {count}\")\n"
      ],
      "metadata": {
        "colab": {
          "base_uri": "https://localhost:8080/"
        },
        "id": "dnyobLLJNGEH",
        "outputId": "02b7880f-4c68-40bf-db48-fec9c645a782"
      },
      "execution_count": null,
      "outputs": [
        {
          "output_type": "stream",
          "name": "stderr",
          "text": [
            "YOLOv5 🚀 v7.0-377-g24ee2801 Python-3.10.12 torch-2.5.0+cu124 CUDA:0 (Tesla T4, 15102MiB)\n",
            "\n"
          ]
        },
        {
          "output_type": "stream",
          "name": "stdout",
          "text": [
            "Annotated image saved at: /content/annotated_grossseyimg.jpg\n",
            "Detected products across all images:\n",
            "                                      Product  Quantity\n",
            "0  Pintola High Protein Peanut Butter-510 gm-         2\n",
            "1                         Badshah Afgani Hing         2\n",
            "2                     Knorr Pizza Pasta Sauce         2\n",
            "3             Govardhan Pure cow Ghee -200ml-         2\n",
            "4              Everest Pav Bhaji Masala 100 g         2\n",
            "Final product counts in the image:\n",
            "Pintola High Protein Peanut Butter-510 gm- qty: 2\n",
            "Badshah Afgani Hing qty: 2\n",
            "Knorr Pizza Pasta Sauce qty: 2\n",
            "Govardhan Pure cow Ghee -200ml- qty: 2\n",
            "Everest Pav Bhaji Masala 100 g qty: 2\n"
          ]
        }
      ]
    }
  ]
}